{
 "cells": [
  {
   "cell_type": "code",
   "execution_count": 115,
   "metadata": {},
   "outputs": [
    {
     "data": {
      "text/plain": [
       "<Figure size 720x576 with 0 Axes>"
      ]
     },
     "metadata": {},
     "output_type": "display_data"
    }
   ],
   "source": [
    "import pandas as pd\n",
    "import numpy as np\n",
    "from sklearn import preprocessing\n",
    "import matplotlib.pyplot as plt \n",
    "plt.rc('font', size=14)\n",
    "from sklearn.linear_model import LogisticRegression\n",
    "from sklearn.tree import DecisionTreeClassifier\n",
    "from sklearn.model_selection import train_test_split\n",
    "import seaborn as sns\n",
    "sns.set(style='white')\n",
    "sns.set(style='whitegrid', color_codes=True)\n",
    "from matplotlib.pyplot import figure\n",
    "figure( figsize=(10, 8))\n",
    "import scipy.stats as stats"
   ]
  },
  {
   "cell_type": "code",
   "execution_count": 120,
   "metadata": {},
   "outputs": [
    {
     "name": "stdout",
     "output_type": "stream",
     "text": [
      "train (255696, 13)\n",
      "test (2644, 13)\n"
     ]
    }
   ],
   "source": [
    "## Importing the two datasets \n",
    "train = pd.read_excel('data_train.xlsx')\n",
    "test = pd.read_excel('data_test.xlsx')\n",
    "print('train', train.shape)\n",
    "print('test' , test.shape)"
   ]
  },
  {
   "cell_type": "code",
   "execution_count": 121,
   "metadata": {},
   "outputs": [
    {
     "data": {
      "text/plain": [
       "42dd57b6ee749c09522d83ed9eb564bcde8022b9    262\n",
       "0dd403149eb5a994284647dc79f5beb480100cdc    240\n",
       "a640d5d53412660294d1ed83348d9c330ab2e28b    173\n",
       "80a590382ae9f946deca446fce6ef7f73c5a5359    173\n",
       "cf4176621e4b36dc22629168380e002d7a06e709    164\n",
       "                                           ... \n",
       "6c747a7a551ea94769a74069b8e1aae273e50e2e      7\n",
       "9c621d8e576126ac6ac2cba737110f90d23af226      7\n",
       "630e1a3c6d1b1e85081bb612f473f478dd2624ca      7\n",
       "5ed2cb9faa642b8b3d15f51f81eecbdf29682300      7\n",
       "fc8965bd6d1114380fc91dfe8034d32872223dbf      7\n",
       "Name: bfgudid, Length: 8000, dtype: int64"
      ]
     },
     "execution_count": 121,
     "metadata": {},
     "output_type": "execute_result"
    }
   ],
   "source": [
    "train['bfgudid'].value_counts()"
   ]
  },
  {
   "cell_type": "code",
   "execution_count": 122,
   "metadata": {},
   "outputs": [
    {
     "data": {
      "text/plain": [
       "bfgudid                       object\n",
       "activity_date         datetime64[ns]\n",
       "play_seconds                   int64\n",
       "play_session_count             int64\n",
       "app_store                     object\n",
       "country_code                  object\n",
       "product                       object\n",
       "currency                      object\n",
       "gross_usd_amount             float64\n",
       "price_tier                   float64\n",
       "day_since_install              int64\n",
       "max_price_tier               float64\n",
       "avg_price_tier               float64\n",
       "dtype: object"
      ]
     },
     "execution_count": 122,
     "metadata": {},
     "output_type": "execute_result"
    }
   ],
   "source": [
    "## Checking datatype\n",
    "train.dtypes"
   ]
  },
  {
   "cell_type": "code",
   "execution_count": 123,
   "metadata": {},
   "outputs": [
    {
     "data": {
      "text/plain": [
       "bfgudid                       object\n",
       "activity_date         datetime64[ns]\n",
       "play_seconds                   int64\n",
       "play_session_count             int64\n",
       "app_store                     object\n",
       "country_code                  object\n",
       "product                       object\n",
       "currency                      object\n",
       "gross_usd_amount             float64\n",
       "price_tier                   float64\n",
       "day_since_install              int64\n",
       "max_price_tier               float64\n",
       "avg_price_tier               float64\n",
       "dtype: object"
      ]
     },
     "execution_count": 123,
     "metadata": {},
     "output_type": "execute_result"
    }
   ],
   "source": [
    "## Checking datatype\n",
    "test.dtypes"
   ]
  },
  {
   "cell_type": "code",
   "execution_count": 124,
   "metadata": {},
   "outputs": [
    {
     "data": {
      "text/plain": [
       "bfgudid                    0\n",
       "activity_date              0\n",
       "play_seconds               0\n",
       "play_session_count         0\n",
       "app_store                  0\n",
       "country_code               0\n",
       "product               176329\n",
       "currency              176329\n",
       "gross_usd_amount      176329\n",
       "price_tier            176329\n",
       "day_since_install          0\n",
       "max_price_tier             0\n",
       "avg_price_tier             0\n",
       "dtype: int64"
      ]
     },
     "execution_count": 124,
     "metadata": {},
     "output_type": "execute_result"
    }
   ],
   "source": [
    "## Checking the null values on train data \n",
    "train.isnull().sum()"
   ]
  },
  {
   "cell_type": "code",
   "execution_count": 125,
   "metadata": {},
   "outputs": [
    {
     "data": {
      "text/plain": [
       "bfgudid                0.000000\n",
       "activity_date          0.000000\n",
       "play_seconds           0.000000\n",
       "play_session_count     0.000000\n",
       "app_store              0.000000\n",
       "country_code           0.000000\n",
       "product               68.960406\n",
       "currency              68.960406\n",
       "gross_usd_amount      68.960406\n",
       "price_tier            68.960406\n",
       "day_since_install      0.000000\n",
       "max_price_tier         0.000000\n",
       "avg_price_tier         0.000000\n",
       "dtype: float64"
      ]
     },
     "execution_count": 125,
     "metadata": {},
     "output_type": "execute_result"
    }
   ],
   "source": [
    "## Checking percentage of null values\n",
    "train.isnull().sum() / train.shape[0] * 100"
   ]
  },
  {
   "cell_type": "code",
   "execution_count": 126,
   "metadata": {},
   "outputs": [
    {
     "data": {
      "text/plain": [
       "bfgudid                 0\n",
       "activity_date           0\n",
       "play_seconds            0\n",
       "play_session_count      0\n",
       "app_store               0\n",
       "country_code            0\n",
       "product               808\n",
       "currency              808\n",
       "gross_usd_amount      808\n",
       "price_tier            808\n",
       "day_since_install       0\n",
       "max_price_tier          0\n",
       "avg_price_tier          0\n",
       "dtype: int64"
      ]
     },
     "execution_count": 126,
     "metadata": {},
     "output_type": "execute_result"
    }
   ],
   "source": [
    "## Checking the null values on test data \n",
    "test.isnull().sum()"
   ]
  },
  {
   "cell_type": "code",
   "execution_count": 127,
   "metadata": {},
   "outputs": [
    {
     "data": {
      "text/plain": [
       "bfgudid                0.000000\n",
       "activity_date          0.000000\n",
       "play_seconds           0.000000\n",
       "play_session_count     0.000000\n",
       "app_store              0.000000\n",
       "country_code           0.000000\n",
       "product               30.559758\n",
       "currency              30.559758\n",
       "gross_usd_amount      30.559758\n",
       "price_tier            30.559758\n",
       "day_since_install      0.000000\n",
       "max_price_tier         0.000000\n",
       "avg_price_tier         0.000000\n",
       "dtype: float64"
      ]
     },
     "execution_count": 127,
     "metadata": {},
     "output_type": "execute_result"
    }
   ],
   "source": [
    "## Checking percentage of null values\n",
    "test.isnull().sum() / test.shape[0] * 100"
   ]
  },
  {
   "cell_type": "code",
   "execution_count": 128,
   "metadata": {},
   "outputs": [
    {
     "name": "stdout",
     "output_type": "stream",
     "text": [
      "Duplicate Rows :\n"
     ]
    },
    {
     "data": {
      "text/html": [
       "<div>\n",
       "<style scoped>\n",
       "    .dataframe tbody tr th:only-of-type {\n",
       "        vertical-align: middle;\n",
       "    }\n",
       "\n",
       "    .dataframe tbody tr th {\n",
       "        vertical-align: top;\n",
       "    }\n",
       "\n",
       "    .dataframe thead th {\n",
       "        text-align: right;\n",
       "    }\n",
       "</style>\n",
       "<table border=\"1\" class=\"dataframe\">\n",
       "  <thead>\n",
       "    <tr style=\"text-align: right;\">\n",
       "      <th></th>\n",
       "      <th>bfgudid</th>\n",
       "      <th>activity_date</th>\n",
       "      <th>play_seconds</th>\n",
       "      <th>play_session_count</th>\n",
       "      <th>app_store</th>\n",
       "      <th>country_code</th>\n",
       "      <th>product</th>\n",
       "      <th>currency</th>\n",
       "      <th>gross_usd_amount</th>\n",
       "      <th>price_tier</th>\n",
       "      <th>day_since_install</th>\n",
       "      <th>max_price_tier</th>\n",
       "      <th>avg_price_tier</th>\n",
       "    </tr>\n",
       "  </thead>\n",
       "  <tbody>\n",
       "    <tr>\n",
       "      <td>13</td>\n",
       "      <td>7eeae35fe8811922ece9e886e020889e431b7a26</td>\n",
       "      <td>2021-01-13</td>\n",
       "      <td>29590</td>\n",
       "      <td>24</td>\n",
       "      <td>androidmarket</td>\n",
       "      <td>GB</td>\n",
       "      <td>herobundlea5</td>\n",
       "      <td>GBP</td>\n",
       "      <td>4.742879</td>\n",
       "      <td>4.99</td>\n",
       "      <td>1</td>\n",
       "      <td>19.99</td>\n",
       "      <td>5.378889</td>\n",
       "    </tr>\n",
       "    <tr>\n",
       "      <td>104</td>\n",
       "      <td>5a73538b0541dbe86260951ec46bc821761eddbf</td>\n",
       "      <td>2021-01-19</td>\n",
       "      <td>47919</td>\n",
       "      <td>39</td>\n",
       "      <td>androidmarket</td>\n",
       "      <td>GB</td>\n",
       "      <td>tier10</td>\n",
       "      <td>GBP</td>\n",
       "      <td>9.484268</td>\n",
       "      <td>9.99</td>\n",
       "      <td>5</td>\n",
       "      <td>9.99</td>\n",
       "      <td>6.290000</td>\n",
       "    </tr>\n",
       "    <tr>\n",
       "      <td>110</td>\n",
       "      <td>5a73538b0541dbe86260951ec46bc821761eddbf</td>\n",
       "      <td>2021-01-16</td>\n",
       "      <td>18905</td>\n",
       "      <td>45</td>\n",
       "      <td>androidmarket</td>\n",
       "      <td>GB</td>\n",
       "      <td>herobundlea5</td>\n",
       "      <td>GBP</td>\n",
       "      <td>4.758399</td>\n",
       "      <td>4.99</td>\n",
       "      <td>2</td>\n",
       "      <td>9.99</td>\n",
       "      <td>6.290000</td>\n",
       "    </tr>\n",
       "    <tr>\n",
       "      <td>130</td>\n",
       "      <td>2293e8ddb0e94925a3d09d6721c2523d5dd1d6f0</td>\n",
       "      <td>2021-01-21</td>\n",
       "      <td>12005</td>\n",
       "      <td>18</td>\n",
       "      <td>androidmarket</td>\n",
       "      <td>ID</td>\n",
       "      <td>herobundlea5</td>\n",
       "      <td>IDR</td>\n",
       "      <td>1.495897</td>\n",
       "      <td>4.99</td>\n",
       "      <td>6</td>\n",
       "      <td>7.99</td>\n",
       "      <td>4.463684</td>\n",
       "    </tr>\n",
       "    <tr>\n",
       "      <td>150</td>\n",
       "      <td>f24435aec5533a5ded5fd251f0ac0042b38f416f</td>\n",
       "      <td>2021-01-15</td>\n",
       "      <td>27013</td>\n",
       "      <td>14</td>\n",
       "      <td>itunes</td>\n",
       "      <td>NL</td>\n",
       "      <td>tier10</td>\n",
       "      <td>EUR</td>\n",
       "      <td>13.354234</td>\n",
       "      <td>9.99</td>\n",
       "      <td>3</td>\n",
       "      <td>9.99</td>\n",
       "      <td>6.240000</td>\n",
       "    </tr>\n",
       "    <tr>\n",
       "      <td>...</td>\n",
       "      <td>...</td>\n",
       "      <td>...</td>\n",
       "      <td>...</td>\n",
       "      <td>...</td>\n",
       "      <td>...</td>\n",
       "      <td>...</td>\n",
       "      <td>...</td>\n",
       "      <td>...</td>\n",
       "      <td>...</td>\n",
       "      <td>...</td>\n",
       "      <td>...</td>\n",
       "      <td>...</td>\n",
       "      <td>...</td>\n",
       "    </tr>\n",
       "    <tr>\n",
       "      <td>255683</td>\n",
       "      <td>e2539e2e63d88f74d9cbed6d4ab046778dfdbe21</td>\n",
       "      <td>2021-01-23</td>\n",
       "      <td>15678</td>\n",
       "      <td>9</td>\n",
       "      <td>androidmarket</td>\n",
       "      <td>US</td>\n",
       "      <td>tier5</td>\n",
       "      <td>USD</td>\n",
       "      <td>4.990000</td>\n",
       "      <td>4.99</td>\n",
       "      <td>0</td>\n",
       "      <td>9.99</td>\n",
       "      <td>3.227500</td>\n",
       "    </tr>\n",
       "    <tr>\n",
       "      <td>255686</td>\n",
       "      <td>e2539e2e63d88f74d9cbed6d4ab046778dfdbe21</td>\n",
       "      <td>2021-01-26</td>\n",
       "      <td>10807</td>\n",
       "      <td>8</td>\n",
       "      <td>androidmarket</td>\n",
       "      <td>US</td>\n",
       "      <td>tier5</td>\n",
       "      <td>USD</td>\n",
       "      <td>4.990000</td>\n",
       "      <td>4.99</td>\n",
       "      <td>3</td>\n",
       "      <td>9.99</td>\n",
       "      <td>3.227500</td>\n",
       "    </tr>\n",
       "    <tr>\n",
       "      <td>255688</td>\n",
       "      <td>e2539e2e63d88f74d9cbed6d4ab046778dfdbe21</td>\n",
       "      <td>2021-01-29</td>\n",
       "      <td>12673</td>\n",
       "      <td>10</td>\n",
       "      <td>androidmarket</td>\n",
       "      <td>US</td>\n",
       "      <td>tier5</td>\n",
       "      <td>USD</td>\n",
       "      <td>4.990000</td>\n",
       "      <td>4.99</td>\n",
       "      <td>6</td>\n",
       "      <td>9.99</td>\n",
       "      <td>3.227500</td>\n",
       "    </tr>\n",
       "    <tr>\n",
       "      <td>255691</td>\n",
       "      <td>e2539e2e63d88f74d9cbed6d4ab046778dfdbe21</td>\n",
       "      <td>2021-01-25</td>\n",
       "      <td>24308</td>\n",
       "      <td>13</td>\n",
       "      <td>androidmarket</td>\n",
       "      <td>US</td>\n",
       "      <td>tier5</td>\n",
       "      <td>USD</td>\n",
       "      <td>4.990000</td>\n",
       "      <td>4.99</td>\n",
       "      <td>2</td>\n",
       "      <td>9.99</td>\n",
       "      <td>3.227500</td>\n",
       "    </tr>\n",
       "    <tr>\n",
       "      <td>255692</td>\n",
       "      <td>e2539e2e63d88f74d9cbed6d4ab046778dfdbe21</td>\n",
       "      <td>2021-01-25</td>\n",
       "      <td>24308</td>\n",
       "      <td>13</td>\n",
       "      <td>androidmarket</td>\n",
       "      <td>US</td>\n",
       "      <td>tier5</td>\n",
       "      <td>USD</td>\n",
       "      <td>4.990000</td>\n",
       "      <td>4.99</td>\n",
       "      <td>2</td>\n",
       "      <td>9.99</td>\n",
       "      <td>3.227500</td>\n",
       "    </tr>\n",
       "  </tbody>\n",
       "</table>\n",
       "<p>6299 rows × 13 columns</p>\n",
       "</div>"
      ],
      "text/plain": [
       "                                         bfgudid activity_date  play_seconds  \\\n",
       "13      7eeae35fe8811922ece9e886e020889e431b7a26    2021-01-13         29590   \n",
       "104     5a73538b0541dbe86260951ec46bc821761eddbf    2021-01-19         47919   \n",
       "110     5a73538b0541dbe86260951ec46bc821761eddbf    2021-01-16         18905   \n",
       "130     2293e8ddb0e94925a3d09d6721c2523d5dd1d6f0    2021-01-21         12005   \n",
       "150     f24435aec5533a5ded5fd251f0ac0042b38f416f    2021-01-15         27013   \n",
       "...                                          ...           ...           ...   \n",
       "255683  e2539e2e63d88f74d9cbed6d4ab046778dfdbe21    2021-01-23         15678   \n",
       "255686  e2539e2e63d88f74d9cbed6d4ab046778dfdbe21    2021-01-26         10807   \n",
       "255688  e2539e2e63d88f74d9cbed6d4ab046778dfdbe21    2021-01-29         12673   \n",
       "255691  e2539e2e63d88f74d9cbed6d4ab046778dfdbe21    2021-01-25         24308   \n",
       "255692  e2539e2e63d88f74d9cbed6d4ab046778dfdbe21    2021-01-25         24308   \n",
       "\n",
       "        play_session_count      app_store country_code       product currency  \\\n",
       "13                      24  androidmarket           GB  herobundlea5      GBP   \n",
       "104                     39  androidmarket           GB        tier10      GBP   \n",
       "110                     45  androidmarket           GB  herobundlea5      GBP   \n",
       "130                     18  androidmarket           ID  herobundlea5      IDR   \n",
       "150                     14         itunes           NL        tier10      EUR   \n",
       "...                    ...            ...          ...           ...      ...   \n",
       "255683                   9  androidmarket           US         tier5      USD   \n",
       "255686                   8  androidmarket           US         tier5      USD   \n",
       "255688                  10  androidmarket           US         tier5      USD   \n",
       "255691                  13  androidmarket           US         tier5      USD   \n",
       "255692                  13  androidmarket           US         tier5      USD   \n",
       "\n",
       "        gross_usd_amount  price_tier  day_since_install  max_price_tier  \\\n",
       "13              4.742879        4.99                  1           19.99   \n",
       "104             9.484268        9.99                  5            9.99   \n",
       "110             4.758399        4.99                  2            9.99   \n",
       "130             1.495897        4.99                  6            7.99   \n",
       "150            13.354234        9.99                  3            9.99   \n",
       "...                  ...         ...                ...             ...   \n",
       "255683          4.990000        4.99                  0            9.99   \n",
       "255686          4.990000        4.99                  3            9.99   \n",
       "255688          4.990000        4.99                  6            9.99   \n",
       "255691          4.990000        4.99                  2            9.99   \n",
       "255692          4.990000        4.99                  2            9.99   \n",
       "\n",
       "        avg_price_tier  \n",
       "13            5.378889  \n",
       "104           6.290000  \n",
       "110           6.290000  \n",
       "130           4.463684  \n",
       "150           6.240000  \n",
       "...                ...  \n",
       "255683        3.227500  \n",
       "255686        3.227500  \n",
       "255688        3.227500  \n",
       "255691        3.227500  \n",
       "255692        3.227500  \n",
       "\n",
       "[6299 rows x 13 columns]"
      ]
     },
     "execution_count": 128,
     "metadata": {},
     "output_type": "execute_result"
    }
   ],
   "source": [
    "# Selecting duplicate rows except first\n",
    "# occurrence based on all columns\n",
    "duplicate = train[train.duplicated()]\n",
    " \n",
    "print(\"Duplicate Rows :\")\n",
    " \n",
    "# Print the resultant Dataframe\n",
    "duplicate"
   ]
  },
  {
   "cell_type": "code",
   "execution_count": 129,
   "metadata": {},
   "outputs": [
    {
     "data": {
      "text/html": [
       "<div>\n",
       "<style scoped>\n",
       "    .dataframe tbody tr th:only-of-type {\n",
       "        vertical-align: middle;\n",
       "    }\n",
       "\n",
       "    .dataframe tbody tr th {\n",
       "        vertical-align: top;\n",
       "    }\n",
       "\n",
       "    .dataframe thead th {\n",
       "        text-align: right;\n",
       "    }\n",
       "</style>\n",
       "<table border=\"1\" class=\"dataframe\">\n",
       "  <thead>\n",
       "    <tr style=\"text-align: right;\">\n",
       "      <th></th>\n",
       "      <th>play_seconds</th>\n",
       "      <th>play_session_count</th>\n",
       "      <th>gross_usd_amount</th>\n",
       "      <th>price_tier</th>\n",
       "      <th>day_since_install</th>\n",
       "      <th>max_price_tier</th>\n",
       "      <th>avg_price_tier</th>\n",
       "    </tr>\n",
       "  </thead>\n",
       "  <tbody>\n",
       "    <tr>\n",
       "      <td>count</td>\n",
       "      <td>2.556960e+05</td>\n",
       "      <td>255696.000000</td>\n",
       "      <td>79367.000000</td>\n",
       "      <td>79367.000000</td>\n",
       "      <td>255696.000000</td>\n",
       "      <td>255696.000000</td>\n",
       "      <td>255696.000000</td>\n",
       "    </tr>\n",
       "    <tr>\n",
       "      <td>mean</td>\n",
       "      <td>8.582659e+03</td>\n",
       "      <td>10.185020</td>\n",
       "      <td>6.851771</td>\n",
       "      <td>6.681370</td>\n",
       "      <td>14.957657</td>\n",
       "      <td>12.709479</td>\n",
       "      <td>5.983366</td>\n",
       "    </tr>\n",
       "    <tr>\n",
       "      <td>std</td>\n",
       "      <td>1.638511e+04</td>\n",
       "      <td>11.795952</td>\n",
       "      <td>8.412426</td>\n",
       "      <td>6.531572</td>\n",
       "      <td>11.186289</td>\n",
       "      <td>11.346039</td>\n",
       "      <td>2.841539</td>\n",
       "    </tr>\n",
       "    <tr>\n",
       "      <td>min</td>\n",
       "      <td>0.000000e+00</td>\n",
       "      <td>0.000000</td>\n",
       "      <td>0.449972</td>\n",
       "      <td>1.990000</td>\n",
       "      <td>0.000000</td>\n",
       "      <td>1.990000</td>\n",
       "      <td>1.990000</td>\n",
       "    </tr>\n",
       "    <tr>\n",
       "      <td>25%</td>\n",
       "      <td>8.200000e+02</td>\n",
       "      <td>1.000000</td>\n",
       "      <td>2.990000</td>\n",
       "      <td>2.990000</td>\n",
       "      <td>6.000000</td>\n",
       "      <td>7.990000</td>\n",
       "      <td>4.490000</td>\n",
       "    </tr>\n",
       "    <tr>\n",
       "      <td>50%</td>\n",
       "      <td>5.228000e+03</td>\n",
       "      <td>7.000000</td>\n",
       "      <td>4.990000</td>\n",
       "      <td>4.990000</td>\n",
       "      <td>13.000000</td>\n",
       "      <td>9.990000</td>\n",
       "      <td>5.632857</td>\n",
       "    </tr>\n",
       "    <tr>\n",
       "      <td>75%</td>\n",
       "      <td>1.151700e+04</td>\n",
       "      <td>15.000000</td>\n",
       "      <td>7.990000</td>\n",
       "      <td>7.990000</td>\n",
       "      <td>23.000000</td>\n",
       "      <td>14.990000</td>\n",
       "      <td>6.708750</td>\n",
       "    </tr>\n",
       "    <tr>\n",
       "      <td>max</td>\n",
       "      <td>2.371950e+06</td>\n",
       "      <td>208.000000</td>\n",
       "      <td>136.673050</td>\n",
       "      <td>59.990000</td>\n",
       "      <td>47.000000</td>\n",
       "      <td>59.990000</td>\n",
       "      <td>49.990000</td>\n",
       "    </tr>\n",
       "  </tbody>\n",
       "</table>\n",
       "</div>"
      ],
      "text/plain": [
       "       play_seconds  play_session_count  gross_usd_amount    price_tier  \\\n",
       "count  2.556960e+05       255696.000000      79367.000000  79367.000000   \n",
       "mean   8.582659e+03           10.185020          6.851771      6.681370   \n",
       "std    1.638511e+04           11.795952          8.412426      6.531572   \n",
       "min    0.000000e+00            0.000000          0.449972      1.990000   \n",
       "25%    8.200000e+02            1.000000          2.990000      2.990000   \n",
       "50%    5.228000e+03            7.000000          4.990000      4.990000   \n",
       "75%    1.151700e+04           15.000000          7.990000      7.990000   \n",
       "max    2.371950e+06          208.000000        136.673050     59.990000   \n",
       "\n",
       "       day_since_install  max_price_tier  avg_price_tier  \n",
       "count      255696.000000   255696.000000   255696.000000  \n",
       "mean           14.957657       12.709479        5.983366  \n",
       "std            11.186289       11.346039        2.841539  \n",
       "min             0.000000        1.990000        1.990000  \n",
       "25%             6.000000        7.990000        4.490000  \n",
       "50%            13.000000        9.990000        5.632857  \n",
       "75%            23.000000       14.990000        6.708750  \n",
       "max            47.000000       59.990000       49.990000  "
      ]
     },
     "execution_count": 129,
     "metadata": {},
     "output_type": "execute_result"
    }
   ],
   "source": [
    "train.describe()"
   ]
  },
  {
   "cell_type": "code",
   "execution_count": 130,
   "metadata": {},
   "outputs": [
    {
     "data": {
      "image/png": "[encoded data removed]",
      "text/plain": [
       "<Figure size 432x288 with 1 Axes>"
      ]
     },
     "metadata": {},
     "output_type": "display_data"
    }
   ],
   "source": [
    "boxplot = train.boxplot(grid=False, rot=45, fontsize=15)  "
   ]
  },
  {
   "cell_type": "code",
   "execution_count": 131,
   "metadata": {},
   "outputs": [
    {
     "data": {
      "text/plain": [
       "0        54185\n",
       "1          139\n",
       "2          106\n",
       "3           87\n",
       "4           77\n",
       "         ...  \n",
       "28253        1\n",
       "30302        1\n",
       "83082        1\n",
       "74886        1\n",
       "24342        1\n",
       "Name: play_seconds, Length: 31318, dtype: int64"
      ]
     },
     "execution_count": 131,
     "metadata": {},
     "output_type": "execute_result"
    }
   ],
   "source": [
    "train[\"play_seconds\"].value_counts()"
   ]
  },
  {
   "cell_type": "code",
   "execution_count": 132,
   "metadata": {},
   "outputs": [
    {
     "data": {
      "text/plain": [
       "0      53969\n",
       "1      12635\n",
       "2      12603\n",
       "3      12156\n",
       "4      11720\n",
       "       ...  \n",
       "155        1\n",
       "176        1\n",
       "110        1\n",
       "108        1\n",
       "112        1\n",
       "Name: play_session_count, Length: 133, dtype: int64"
      ]
     },
     "execution_count": 132,
     "metadata": {},
     "output_type": "execute_result"
    }
   ],
   "source": [
    "train[\"play_session_count\"].value_counts()"
   ]
  },
  {
   "cell_type": "code",
   "execution_count": 133,
   "metadata": {},
   "outputs": [
    {
     "data": {
      "text/plain": [
       "bfgudid                    0\n",
       "activity_date              0\n",
       "play_seconds               0\n",
       "play_session_count         0\n",
       "app_store                  0\n",
       "country_code               0\n",
       "product               176329\n",
       "currency              176329\n",
       "gross_usd_amount      176329\n",
       "price_tier            176329\n",
       "day_since_install          0\n",
       "max_price_tier             0\n",
       "avg_price_tier             0\n",
       "dtype: int64"
      ]
     },
     "execution_count": 133,
     "metadata": {},
     "output_type": "execute_result"
    }
   ],
   "source": [
    "train.isnull().sum()"
   ]
  },
  {
   "cell_type": "code",
   "execution_count": 166,
   "metadata": {},
   "outputs": [
    {
     "data": {
      "text/html": [
       "<div>\n",
       "<style scoped>\n",
       "    .dataframe tbody tr th:only-of-type {\n",
       "        vertical-align: middle;\n",
       "    }\n",
       "\n",
       "    .dataframe tbody tr th {\n",
       "        vertical-align: top;\n",
       "    }\n",
       "\n",
       "    .dataframe thead th {\n",
       "        text-align: right;\n",
       "    }\n",
       "</style>\n",
       "<table border=\"1\" class=\"dataframe\">\n",
       "  <thead>\n",
       "    <tr style=\"text-align: right;\">\n",
       "      <th></th>\n",
       "      <th>bfgudid</th>\n",
       "      <th>activity_date</th>\n",
       "      <th>play_seconds</th>\n",
       "      <th>play_session_count</th>\n",
       "      <th>app_store</th>\n",
       "      <th>country_code</th>\n",
       "      <th>product</th>\n",
       "      <th>currency</th>\n",
       "      <th>gross_usd_amount</th>\n",
       "      <th>price_tier</th>\n",
       "      <th>day_since_install</th>\n",
       "      <th>max_price_tier</th>\n",
       "      <th>avg_price_tier</th>\n",
       "    </tr>\n",
       "  </thead>\n",
       "  <tbody>\n",
       "    <tr>\n",
       "      <td>0</td>\n",
       "      <td>7eeae35fe8811922ece9e886e020889e431b7a26</td>\n",
       "      <td>2021-01-15</td>\n",
       "      <td>22115.0</td>\n",
       "      <td>19</td>\n",
       "      <td>androidmarket</td>\n",
       "      <td>GB</td>\n",
       "      <td>creatureupgrade3</td>\n",
       "      <td>GBP</td>\n",
       "      <td>3.401175</td>\n",
       "      <td>2.99</td>\n",
       "      <td>3</td>\n",
       "      <td>19.99</td>\n",
       "      <td>5.378889</td>\n",
       "    </tr>\n",
       "    <tr>\n",
       "      <td>1</td>\n",
       "      <td>7eeae35fe8811922ece9e886e020889e431b7a26</td>\n",
       "      <td>2021-01-15</td>\n",
       "      <td>22115.0</td>\n",
       "      <td>19</td>\n",
       "      <td>androidmarket</td>\n",
       "      <td>GB</td>\n",
       "      <td>energytierb3</td>\n",
       "      <td>GBP</td>\n",
       "      <td>3.401175</td>\n",
       "      <td>2.99</td>\n",
       "      <td>3</td>\n",
       "      <td>19.99</td>\n",
       "      <td>5.378889</td>\n",
       "    </tr>\n",
       "    <tr>\n",
       "      <td>2</td>\n",
       "      <td>7eeae35fe8811922ece9e886e020889e431b7a26</td>\n",
       "      <td>2021-01-18</td>\n",
       "      <td>28929.0</td>\n",
       "      <td>31</td>\n",
       "      <td>androidmarket</td>\n",
       "      <td>GB</td>\n",
       "      <td>energytierb3</td>\n",
       "      <td>GBP</td>\n",
       "      <td>3.385406</td>\n",
       "      <td>2.99</td>\n",
       "      <td>6</td>\n",
       "      <td>19.99</td>\n",
       "      <td>5.378889</td>\n",
       "    </tr>\n",
       "    <tr>\n",
       "      <td>3</td>\n",
       "      <td>7eeae35fe8811922ece9e886e020889e431b7a26</td>\n",
       "      <td>2021-01-18</td>\n",
       "      <td>28929.0</td>\n",
       "      <td>31</td>\n",
       "      <td>androidmarket</td>\n",
       "      <td>GB</td>\n",
       "      <td>starterbundletier5</td>\n",
       "      <td>GBP</td>\n",
       "      <td>4.745007</td>\n",
       "      <td>4.99</td>\n",
       "      <td>6</td>\n",
       "      <td>19.99</td>\n",
       "      <td>5.378889</td>\n",
       "    </tr>\n",
       "    <tr>\n",
       "      <td>4</td>\n",
       "      <td>7eeae35fe8811922ece9e886e020889e431b7a26</td>\n",
       "      <td>2021-01-18</td>\n",
       "      <td>28929.0</td>\n",
       "      <td>31</td>\n",
       "      <td>androidmarket</td>\n",
       "      <td>GB</td>\n",
       "      <td>creaturepack5</td>\n",
       "      <td>GBP</td>\n",
       "      <td>4.745007</td>\n",
       "      <td>4.99</td>\n",
       "      <td>6</td>\n",
       "      <td>19.99</td>\n",
       "      <td>5.378889</td>\n",
       "    </tr>\n",
       "    <tr>\n",
       "      <td>...</td>\n",
       "      <td>...</td>\n",
       "      <td>...</td>\n",
       "      <td>...</td>\n",
       "      <td>...</td>\n",
       "      <td>...</td>\n",
       "      <td>...</td>\n",
       "      <td>...</td>\n",
       "      <td>...</td>\n",
       "      <td>...</td>\n",
       "      <td>...</td>\n",
       "      <td>...</td>\n",
       "      <td>...</td>\n",
       "      <td>...</td>\n",
       "    </tr>\n",
       "    <tr>\n",
       "      <td>255691</td>\n",
       "      <td>e2539e2e63d88f74d9cbed6d4ab046778dfdbe21</td>\n",
       "      <td>2021-01-25</td>\n",
       "      <td>24308.0</td>\n",
       "      <td>13</td>\n",
       "      <td>androidmarket</td>\n",
       "      <td>US</td>\n",
       "      <td>tier5</td>\n",
       "      <td>USD</td>\n",
       "      <td>4.990000</td>\n",
       "      <td>4.99</td>\n",
       "      <td>2</td>\n",
       "      <td>9.99</td>\n",
       "      <td>3.227500</td>\n",
       "    </tr>\n",
       "    <tr>\n",
       "      <td>255692</td>\n",
       "      <td>e2539e2e63d88f74d9cbed6d4ab046778dfdbe21</td>\n",
       "      <td>2021-01-25</td>\n",
       "      <td>24308.0</td>\n",
       "      <td>13</td>\n",
       "      <td>androidmarket</td>\n",
       "      <td>US</td>\n",
       "      <td>tier5</td>\n",
       "      <td>USD</td>\n",
       "      <td>4.990000</td>\n",
       "      <td>4.99</td>\n",
       "      <td>2</td>\n",
       "      <td>9.99</td>\n",
       "      <td>3.227500</td>\n",
       "    </tr>\n",
       "    <tr>\n",
       "      <td>255693</td>\n",
       "      <td>e2539e2e63d88f74d9cbed6d4ab046778dfdbe21</td>\n",
       "      <td>2021-01-23</td>\n",
       "      <td>15678.0</td>\n",
       "      <td>9</td>\n",
       "      <td>androidmarket</td>\n",
       "      <td>US</td>\n",
       "      <td>bundletier7</td>\n",
       "      <td>USD</td>\n",
       "      <td>6.990000</td>\n",
       "      <td>6.99</td>\n",
       "      <td>0</td>\n",
       "      <td>9.99</td>\n",
       "      <td>3.227500</td>\n",
       "    </tr>\n",
       "    <tr>\n",
       "      <td>255694</td>\n",
       "      <td>e2539e2e63d88f74d9cbed6d4ab046778dfdbe21</td>\n",
       "      <td>2021-01-25</td>\n",
       "      <td>24308.0</td>\n",
       "      <td>13</td>\n",
       "      <td>androidmarket</td>\n",
       "      <td>US</td>\n",
       "      <td>worker7</td>\n",
       "      <td>USD</td>\n",
       "      <td>6.990000</td>\n",
       "      <td>6.99</td>\n",
       "      <td>2</td>\n",
       "      <td>9.99</td>\n",
       "      <td>3.227500</td>\n",
       "    </tr>\n",
       "    <tr>\n",
       "      <td>255695</td>\n",
       "      <td>e2539e2e63d88f74d9cbed6d4ab046778dfdbe21</td>\n",
       "      <td>2021-01-28</td>\n",
       "      <td>5729.0</td>\n",
       "      <td>11</td>\n",
       "      <td>androidmarket</td>\n",
       "      <td>US</td>\n",
       "      <td>island08</td>\n",
       "      <td>USD</td>\n",
       "      <td>7.990000</td>\n",
       "      <td>7.99</td>\n",
       "      <td>5</td>\n",
       "      <td>9.99</td>\n",
       "      <td>3.227500</td>\n",
       "    </tr>\n",
       "  </tbody>\n",
       "</table>\n",
       "<p>255696 rows × 13 columns</p>\n",
       "</div>"
      ],
      "text/plain": [
       "                                         bfgudid activity_date  play_seconds  \\\n",
       "0       7eeae35fe8811922ece9e886e020889e431b7a26    2021-01-15       22115.0   \n",
       "1       7eeae35fe8811922ece9e886e020889e431b7a26    2021-01-15       22115.0   \n",
       "2       7eeae35fe8811922ece9e886e020889e431b7a26    2021-01-18       28929.0   \n",
       "3       7eeae35fe8811922ece9e886e020889e431b7a26    2021-01-18       28929.0   \n",
       "4       7eeae35fe8811922ece9e886e020889e431b7a26    2021-01-18       28929.0   \n",
       "...                                          ...           ...           ...   \n",
       "255691  e2539e2e63d88f74d9cbed6d4ab046778dfdbe21    2021-01-25       24308.0   \n",
       "255692  e2539e2e63d88f74d9cbed6d4ab046778dfdbe21    2021-01-25       24308.0   \n",
       "255693  e2539e2e63d88f74d9cbed6d4ab046778dfdbe21    2021-01-23       15678.0   \n",
       "255694  e2539e2e63d88f74d9cbed6d4ab046778dfdbe21    2021-01-25       24308.0   \n",
       "255695  e2539e2e63d88f74d9cbed6d4ab046778dfdbe21    2021-01-28        5729.0   \n",
       "\n",
       "        play_session_count      app_store country_code             product  \\\n",
       "0                       19  androidmarket           GB    creatureupgrade3   \n",
       "1                       19  androidmarket           GB        energytierb3   \n",
       "2                       31  androidmarket           GB        energytierb3   \n",
       "3                       31  androidmarket           GB  starterbundletier5   \n",
       "4                       31  androidmarket           GB       creaturepack5   \n",
       "...                    ...            ...          ...                 ...   \n",
       "255691                  13  androidmarket           US               tier5   \n",
       "255692                  13  androidmarket           US               tier5   \n",
       "255693                   9  androidmarket           US         bundletier7   \n",
       "255694                  13  androidmarket           US             worker7   \n",
       "255695                  11  androidmarket           US            island08   \n",
       "\n",
       "       currency  gross_usd_amount  price_tier  day_since_install  \\\n",
       "0           GBP          3.401175        2.99                  3   \n",
       "1           GBP          3.401175        2.99                  3   \n",
       "2           GBP          3.385406        2.99                  6   \n",
       "3           GBP          4.745007        4.99                  6   \n",
       "4           GBP          4.745007        4.99                  6   \n",
       "...         ...               ...         ...                ...   \n",
       "255691      USD          4.990000        4.99                  2   \n",
       "255692      USD          4.990000        4.99                  2   \n",
       "255693      USD          6.990000        6.99                  0   \n",
       "255694      USD          6.990000        6.99                  2   \n",
       "255695      USD          7.990000        7.99                  5   \n",
       "\n",
       "        max_price_tier  avg_price_tier  \n",
       "0                19.99        5.378889  \n",
       "1                19.99        5.378889  \n",
       "2                19.99        5.378889  \n",
       "3                19.99        5.378889  \n",
       "4                19.99        5.378889  \n",
       "...                ...             ...  \n",
       "255691            9.99        3.227500  \n",
       "255692            9.99        3.227500  \n",
       "255693            9.99        3.227500  \n",
       "255694            9.99        3.227500  \n",
       "255695            9.99        3.227500  \n",
       "\n",
       "[255696 rows x 13 columns]"
      ]
     },
     "execution_count": 166,
     "metadata": {},
     "output_type": "execute_result"
    }
   ],
   "source": [
    "train"
   ]
  },
  {
   "cell_type": "markdown",
   "metadata": {},
   "source": [
    "### Missing Value Imputation "
   ]
  },
  {
   "cell_type": "code",
   "execution_count": 135,
   "metadata": {},
   "outputs": [],
   "source": [
    "### Imputing missing value for product  \n",
    "train['product'] = train.groupby('bfgudid')['product'].bfill().ffill()\n",
    "test['product'] = test.groupby('bfgudid')['product'].bfill().ffill()\n"
   ]
  },
  {
   "cell_type": "code",
   "execution_count": 136,
   "metadata": {},
   "outputs": [
    {
     "data": {
      "text/plain": [
       "0           creatureupgrade3\n",
       "1               energytierb3\n",
       "2               energytierb3\n",
       "3         starterbundletier5\n",
       "4              creaturepack5\n",
       "                 ...        \n",
       "255691                 tier5\n",
       "255692                 tier5\n",
       "255693           bundletier7\n",
       "255694               worker7\n",
       "255695              island08\n",
       "Name: product, Length: 255696, dtype: object"
      ]
     },
     "execution_count": 136,
     "metadata": {},
     "output_type": "execute_result"
    }
   ],
   "source": [
    "train['product']"
   ]
  },
  {
   "cell_type": "code",
   "execution_count": 137,
   "metadata": {},
   "outputs": [
    {
     "data": {
      "text/plain": [
       "39"
      ]
     },
     "execution_count": 137,
     "metadata": {},
     "output_type": "execute_result"
    }
   ],
   "source": [
    "len(train['product'].unique())"
   ]
  },
  {
   "cell_type": "code",
   "execution_count": 138,
   "metadata": {},
   "outputs": [],
   "source": [
    "### Imputing missing value for price_tier \n",
    "train['price_tier'] = train.groupby('product')['price_tier'].apply(lambda x: x.interpolate(method='linear')).bfill()\n",
    "test['price_tier'] = test.groupby('product')['price_tier'].apply(lambda x: x.interpolate(method='linear')).bfill()"
   ]
  },
  {
   "cell_type": "code",
   "execution_count": 139,
   "metadata": {},
   "outputs": [
    {
     "data": {
      "text/plain": [
       "bfgudid                    0\n",
       "activity_date              0\n",
       "play_seconds               0\n",
       "play_session_count         0\n",
       "app_store                  0\n",
       "country_code               0\n",
       "product                    0\n",
       "currency              176329\n",
       "gross_usd_amount      176329\n",
       "price_tier                 0\n",
       "day_since_install          0\n",
       "max_price_tier             0\n",
       "avg_price_tier             0\n",
       "dtype: int64"
      ]
     },
     "execution_count": 139,
     "metadata": {},
     "output_type": "execute_result"
    }
   ],
   "source": [
    "train.isnull().sum()"
   ]
  },
  {
   "cell_type": "code",
   "execution_count": 140,
   "metadata": {},
   "outputs": [
    {
     "data": {
      "text/plain": [
       "bfgudid                 0\n",
       "activity_date           0\n",
       "play_seconds            0\n",
       "play_session_count      0\n",
       "app_store               0\n",
       "country_code            0\n",
       "product                 0\n",
       "currency              808\n",
       "gross_usd_amount      808\n",
       "price_tier              0\n",
       "day_since_install       0\n",
       "max_price_tier          0\n",
       "avg_price_tier          0\n",
       "dtype: int64"
      ]
     },
     "execution_count": 140,
     "metadata": {},
     "output_type": "execute_result"
    }
   ],
   "source": [
    "test.isnull().sum()"
   ]
  },
  {
   "cell_type": "code",
   "execution_count": 141,
   "metadata": {},
   "outputs": [],
   "source": [
    "### Imputing missing value for gross_usd_amount \n",
    "train['gross_usd_amount'] = train.groupby('product')['gross_usd_amount'].apply(lambda x: x.interpolate(method='linear')).bfill()\n",
    "test['gross_usd_amount'] = test.groupby('product')['gross_usd_amount'].apply(lambda x: x.interpolate(method='linear')).bfill()"
   ]
  },
  {
   "cell_type": "code",
   "execution_count": 142,
   "metadata": {},
   "outputs": [
    {
     "data": {
      "text/plain": [
       "bfgudid                    0\n",
       "activity_date              0\n",
       "play_seconds               0\n",
       "play_session_count         0\n",
       "app_store                  0\n",
       "country_code               0\n",
       "product                    0\n",
       "currency              176329\n",
       "gross_usd_amount           0\n",
       "price_tier                 0\n",
       "day_since_install          0\n",
       "max_price_tier             0\n",
       "avg_price_tier             0\n",
       "dtype: int64"
      ]
     },
     "execution_count": 142,
     "metadata": {},
     "output_type": "execute_result"
    }
   ],
   "source": [
    "train.isnull().sum()"
   ]
  },
  {
   "cell_type": "code",
   "execution_count": 143,
   "metadata": {},
   "outputs": [
    {
     "data": {
      "text/plain": [
       "bfgudid                 0\n",
       "activity_date           0\n",
       "play_seconds            0\n",
       "play_session_count      0\n",
       "app_store               0\n",
       "country_code            0\n",
       "product                 0\n",
       "currency              808\n",
       "gross_usd_amount        0\n",
       "price_tier              0\n",
       "day_since_install       0\n",
       "max_price_tier          0\n",
       "avg_price_tier          0\n",
       "dtype: int64"
      ]
     },
     "execution_count": 143,
     "metadata": {},
     "output_type": "execute_result"
    }
   ],
   "source": [
    "test.isnull().sum()"
   ]
  },
  {
   "cell_type": "code",
   "execution_count": 144,
   "metadata": {},
   "outputs": [],
   "source": [
    "### Imputing missing value for currency \n",
    "train['currency'] = train.groupby(['bfgudid'], sort=False)['currency'].apply(lambda x: x.fillna(x.mode().iloc[0]))\n",
    "test['currency'] = test.groupby(['bfgudid'], sort=False)['currency'].apply(lambda x: x.fillna(x.mode().iloc[0]))"
   ]
  },
  {
   "cell_type": "code",
   "execution_count": 145,
   "metadata": {},
   "outputs": [
    {
     "data": {
      "text/plain": [
       "bfgudid               0\n",
       "activity_date         0\n",
       "play_seconds          0\n",
       "play_session_count    0\n",
       "app_store             0\n",
       "country_code          0\n",
       "product               0\n",
       "currency              0\n",
       "gross_usd_amount      0\n",
       "price_tier            0\n",
       "day_since_install     0\n",
       "max_price_tier        0\n",
       "avg_price_tier        0\n",
       "dtype: int64"
      ]
     },
     "execution_count": 145,
     "metadata": {},
     "output_type": "execute_result"
    }
   ],
   "source": [
    "train.isnull().sum()"
   ]
  },
  {
   "cell_type": "code",
   "execution_count": 146,
   "metadata": {},
   "outputs": [
    {
     "data": {
      "text/plain": [
       "bfgudid               0\n",
       "activity_date         0\n",
       "play_seconds          0\n",
       "play_session_count    0\n",
       "app_store             0\n",
       "country_code          0\n",
       "product               0\n",
       "currency              0\n",
       "gross_usd_amount      0\n",
       "price_tier            0\n",
       "day_since_install     0\n",
       "max_price_tier        0\n",
       "avg_price_tier        0\n",
       "dtype: int64"
      ]
     },
     "execution_count": 146,
     "metadata": {},
     "output_type": "execute_result"
    }
   ],
   "source": [
    "test.isnull().sum()"
   ]
  },
  {
   "cell_type": "code",
   "execution_count": 147,
   "metadata": {},
   "outputs": [
    {
     "data": {
      "text/plain": [
       "<matplotlib.axes._subplots.AxesSubplot at 0x7fefcb4dd510>"
      ]
     },
     "execution_count": 147,
     "metadata": {},
     "output_type": "execute_result"
    },
    {
     "data": {
      "image/png": "[encoded data removed]",
      "text/plain": [
       "<Figure size 432x288 with 1 Axes>"
      ]
     },
     "metadata": {},
     "output_type": "display_data"
    }
   ],
   "source": [
    "train.boxplot(column='play_seconds', return_type='axes', grid=False, rot=45, fontsize=15)  \n"
   ]
  },
  {
   "cell_type": "code",
   "execution_count": 148,
   "metadata": {},
   "outputs": [
    {
     "data": {
      "text/plain": [
       "<matplotlib.axes._subplots.AxesSubplot at 0x7fefd3a84250>"
      ]
     },
     "execution_count": 148,
     "metadata": {},
     "output_type": "execute_result"
    },
    {
     "data": {
      "image/png": "[encoded data removed]",
      "text/plain": [
       "<Figure size 432x288 with 1 Axes>"
      ]
     },
     "metadata": {},
     "output_type": "display_data"
    }
   ],
   "source": [
    "train.boxplot(column='play_session_count', return_type='axes', grid=False, rot=45, fontsize=15)  "
   ]
  },
  {
   "cell_type": "code",
   "execution_count": 149,
   "metadata": {},
   "outputs": [
    {
     "data": {
      "image/png": "[encoded data removed]",
      "text/plain": [
       "<Figure size 1152x360 with 2 Axes>"
      ]
     },
     "metadata": {},
     "output_type": "display_data"
    },
    {
     "data": {
      "image/png": "[encoded data removed]",
      "text/plain": [
       "<Figure size 432x288 with 1 Axes>"
      ]
     },
     "metadata": {},
     "output_type": "display_data"
    },
    {
     "data": {
      "image/png": "[encoded data removed]",
      "text/plain": [
       "<Figure size 432x288 with 1 Axes>"
      ]
     },
     "metadata": {},
     "output_type": "display_data"
    },
    {
     "data": {
      "image/png": "[encoded data removed]",
      "text/plain": [
       "<Figure size 432x288 with 1 Axes>"
      ]
     },
     "metadata": {},
     "output_type": "display_data"
    },
    {
     "data": {
      "image/png": "[encoded data removed]",
      "text/plain": [
       "<Figure size 432x288 with 1 Axes>"
      ]
     },
     "metadata": {},
     "output_type": "display_data"
    }
   ],
   "source": [
    "import warnings\n",
    "warnings.filterwarnings('ignore')\n",
    "plt.figure(figsize=(16,5))\n",
    "plt.subplot(1,2,1)\n",
    "sns.distplot(train['play_seconds'])\n",
    "plt.subplot(1,2,2)\n",
    "sns.distplot(train['play_session_count'])\n",
    "plt.show()\n",
    "sns.distplot(train['gross_usd_amount'])\n",
    "plt.show()\n",
    "sns.distplot(train['day_since_install'])\n",
    "plt.show()\n",
    "sns.distplot(train['max_price_tier'])\n",
    "plt.show()\n",
    "sns.distplot(train['avg_price_tier'])\n",
    "plt.show()\n"
   ]
  },
  {
   "cell_type": "markdown",
   "metadata": {},
   "source": [
    "### Removing Outliers"
   ]
  },
  {
   "cell_type": "code",
   "execution_count": 150,
   "metadata": {},
   "outputs": [
    {
     "name": "stdout",
     "output_type": "stream",
     "text": [
      "Highest allowed 57737.993247993254\n",
      "Lowest allowed -40572.67589457357\n"
     ]
    }
   ],
   "source": [
    "### play_seconds\n",
    "### Finding the Boundary Values\n",
    "print(\"Highest allowed\",train['play_seconds'].mean() + 3*train['play_seconds'].std())\n",
    "print(\"Lowest allowed\",train['play_seconds'].mean() - 3*train['play_seconds'].std())"
   ]
  },
  {
   "cell_type": "code",
   "execution_count": 151,
   "metadata": {},
   "outputs": [
    {
     "data": {
      "text/html": [
       "<div>\n",
       "<style scoped>\n",
       "    .dataframe tbody tr th:only-of-type {\n",
       "        vertical-align: middle;\n",
       "    }\n",
       "\n",
       "    .dataframe tbody tr th {\n",
       "        vertical-align: top;\n",
       "    }\n",
       "\n",
       "    .dataframe thead th {\n",
       "        text-align: right;\n",
       "    }\n",
       "</style>\n",
       "<table border=\"1\" class=\"dataframe\">\n",
       "  <thead>\n",
       "    <tr style=\"text-align: right;\">\n",
       "      <th></th>\n",
       "      <th>bfgudid</th>\n",
       "      <th>activity_date</th>\n",
       "      <th>play_seconds</th>\n",
       "      <th>play_session_count</th>\n",
       "      <th>app_store</th>\n",
       "      <th>country_code</th>\n",
       "      <th>product</th>\n",
       "      <th>currency</th>\n",
       "      <th>gross_usd_amount</th>\n",
       "      <th>price_tier</th>\n",
       "      <th>day_since_install</th>\n",
       "      <th>max_price_tier</th>\n",
       "      <th>avg_price_tier</th>\n",
       "    </tr>\n",
       "  </thead>\n",
       "  <tbody>\n",
       "    <tr>\n",
       "      <td>105</td>\n",
       "      <td>5a73538b0541dbe86260951ec46bc821761eddbf</td>\n",
       "      <td>2021-01-17</td>\n",
       "      <td>71116</td>\n",
       "      <td>40</td>\n",
       "      <td>androidmarket</td>\n",
       "      <td>GB</td>\n",
       "      <td>herobundlea5</td>\n",
       "      <td>GBP</td>\n",
       "      <td>4.745136</td>\n",
       "      <td>4.99</td>\n",
       "      <td>3</td>\n",
       "      <td>9.99</td>\n",
       "      <td>6.290000</td>\n",
       "    </tr>\n",
       "    <tr>\n",
       "      <td>1193</td>\n",
       "      <td>bae863b81d28b641c36acbe9fa82bf659d1b7167</td>\n",
       "      <td>2021-01-24</td>\n",
       "      <td>74450</td>\n",
       "      <td>1</td>\n",
       "      <td>androidmarket</td>\n",
       "      <td>BR</td>\n",
       "      <td>creaturepack3</td>\n",
       "      <td>BRL</td>\n",
       "      <td>2.294278</td>\n",
       "      <td>2.99</td>\n",
       "      <td>10</td>\n",
       "      <td>9.99</td>\n",
       "      <td>4.693704</td>\n",
       "    </tr>\n",
       "    <tr>\n",
       "      <td>1614</td>\n",
       "      <td>957202bd8444414c1ad70aa66bddb07c73ee0f05</td>\n",
       "      <td>2021-01-15</td>\n",
       "      <td>88509</td>\n",
       "      <td>8</td>\n",
       "      <td>androidmarket</td>\n",
       "      <td>BR</td>\n",
       "      <td>workerbundle4</td>\n",
       "      <td>BRL</td>\n",
       "      <td>1.518653</td>\n",
       "      <td>3.99</td>\n",
       "      <td>3</td>\n",
       "      <td>7.99</td>\n",
       "      <td>5.990000</td>\n",
       "    </tr>\n",
       "    <tr>\n",
       "      <td>1615</td>\n",
       "      <td>957202bd8444414c1ad70aa66bddb07c73ee0f05</td>\n",
       "      <td>2021-01-13</td>\n",
       "      <td>75931</td>\n",
       "      <td>4</td>\n",
       "      <td>androidmarket</td>\n",
       "      <td>BR</td>\n",
       "      <td>treasurebundle8</td>\n",
       "      <td>BRL</td>\n",
       "      <td>2.939560</td>\n",
       "      <td>7.99</td>\n",
       "      <td>1</td>\n",
       "      <td>7.99</td>\n",
       "      <td>5.990000</td>\n",
       "    </tr>\n",
       "    <tr>\n",
       "      <td>1617</td>\n",
       "      <td>957202bd8444414c1ad70aa66bddb07c73ee0f05</td>\n",
       "      <td>2021-01-25</td>\n",
       "      <td>245780</td>\n",
       "      <td>13</td>\n",
       "      <td>androidmarket</td>\n",
       "      <td>BR</td>\n",
       "      <td>treasurebundle8</td>\n",
       "      <td>BRL</td>\n",
       "      <td>3.395845</td>\n",
       "      <td>7.99</td>\n",
       "      <td>13</td>\n",
       "      <td>7.99</td>\n",
       "      <td>5.990000</td>\n",
       "    </tr>\n",
       "    <tr>\n",
       "      <td>...</td>\n",
       "      <td>...</td>\n",
       "      <td>...</td>\n",
       "      <td>...</td>\n",
       "      <td>...</td>\n",
       "      <td>...</td>\n",
       "      <td>...</td>\n",
       "      <td>...</td>\n",
       "      <td>...</td>\n",
       "      <td>...</td>\n",
       "      <td>...</td>\n",
       "      <td>...</td>\n",
       "      <td>...</td>\n",
       "      <td>...</td>\n",
       "    </tr>\n",
       "    <tr>\n",
       "      <td>255314</td>\n",
       "      <td>8de4f5218f7c89713a9624121e3dfcde91109d22</td>\n",
       "      <td>2021-01-31</td>\n",
       "      <td>62412</td>\n",
       "      <td>11</td>\n",
       "      <td>androidmarket</td>\n",
       "      <td>US</td>\n",
       "      <td>tier10</td>\n",
       "      <td>USD</td>\n",
       "      <td>9.990000</td>\n",
       "      <td>9.99</td>\n",
       "      <td>8</td>\n",
       "      <td>19.99</td>\n",
       "      <td>7.504286</td>\n",
       "    </tr>\n",
       "    <tr>\n",
       "      <td>255315</td>\n",
       "      <td>8de4f5218f7c89713a9624121e3dfcde91109d22</td>\n",
       "      <td>2021-01-31</td>\n",
       "      <td>62412</td>\n",
       "      <td>11</td>\n",
       "      <td>androidmarket</td>\n",
       "      <td>US</td>\n",
       "      <td>tier10</td>\n",
       "      <td>USD</td>\n",
       "      <td>9.990000</td>\n",
       "      <td>9.99</td>\n",
       "      <td>8</td>\n",
       "      <td>19.99</td>\n",
       "      <td>7.504286</td>\n",
       "    </tr>\n",
       "    <tr>\n",
       "      <td>255319</td>\n",
       "      <td>8de4f5218f7c89713a9624121e3dfcde91109d22</td>\n",
       "      <td>2021-01-26</td>\n",
       "      <td>73881</td>\n",
       "      <td>14</td>\n",
       "      <td>androidmarket</td>\n",
       "      <td>US</td>\n",
       "      <td>tier10</td>\n",
       "      <td>USD</td>\n",
       "      <td>9.990000</td>\n",
       "      <td>9.99</td>\n",
       "      <td>3</td>\n",
       "      <td>19.99</td>\n",
       "      <td>7.504286</td>\n",
       "    </tr>\n",
       "    <tr>\n",
       "      <td>255320</td>\n",
       "      <td>8de4f5218f7c89713a9624121e3dfcde91109d22</td>\n",
       "      <td>2021-01-26</td>\n",
       "      <td>73881</td>\n",
       "      <td>14</td>\n",
       "      <td>androidmarket</td>\n",
       "      <td>US</td>\n",
       "      <td>tier10</td>\n",
       "      <td>USD</td>\n",
       "      <td>9.990000</td>\n",
       "      <td>9.99</td>\n",
       "      <td>3</td>\n",
       "      <td>19.99</td>\n",
       "      <td>7.504286</td>\n",
       "    </tr>\n",
       "    <tr>\n",
       "      <td>255321</td>\n",
       "      <td>8de4f5218f7c89713a9624121e3dfcde91109d22</td>\n",
       "      <td>2021-01-26</td>\n",
       "      <td>73881</td>\n",
       "      <td>14</td>\n",
       "      <td>androidmarket</td>\n",
       "      <td>US</td>\n",
       "      <td>tier10</td>\n",
       "      <td>USD</td>\n",
       "      <td>9.990000</td>\n",
       "      <td>9.99</td>\n",
       "      <td>3</td>\n",
       "      <td>19.99</td>\n",
       "      <td>7.504286</td>\n",
       "    </tr>\n",
       "  </tbody>\n",
       "</table>\n",
       "<p>2166 rows × 13 columns</p>\n",
       "</div>"
      ],
      "text/plain": [
       "                                         bfgudid activity_date  play_seconds  \\\n",
       "105     5a73538b0541dbe86260951ec46bc821761eddbf    2021-01-17         71116   \n",
       "1193    bae863b81d28b641c36acbe9fa82bf659d1b7167    2021-01-24         74450   \n",
       "1614    957202bd8444414c1ad70aa66bddb07c73ee0f05    2021-01-15         88509   \n",
       "1615    957202bd8444414c1ad70aa66bddb07c73ee0f05    2021-01-13         75931   \n",
       "1617    957202bd8444414c1ad70aa66bddb07c73ee0f05    2021-01-25        245780   \n",
       "...                                          ...           ...           ...   \n",
       "255314  8de4f5218f7c89713a9624121e3dfcde91109d22    2021-01-31         62412   \n",
       "255315  8de4f5218f7c89713a9624121e3dfcde91109d22    2021-01-31         62412   \n",
       "255319  8de4f5218f7c89713a9624121e3dfcde91109d22    2021-01-26         73881   \n",
       "255320  8de4f5218f7c89713a9624121e3dfcde91109d22    2021-01-26         73881   \n",
       "255321  8de4f5218f7c89713a9624121e3dfcde91109d22    2021-01-26         73881   \n",
       "\n",
       "        play_session_count      app_store country_code          product  \\\n",
       "105                     40  androidmarket           GB     herobundlea5   \n",
       "1193                     1  androidmarket           BR    creaturepack3   \n",
       "1614                     8  androidmarket           BR    workerbundle4   \n",
       "1615                     4  androidmarket           BR  treasurebundle8   \n",
       "1617                    13  androidmarket           BR  treasurebundle8   \n",
       "...                    ...            ...          ...              ...   \n",
       "255314                  11  androidmarket           US           tier10   \n",
       "255315                  11  androidmarket           US           tier10   \n",
       "255319                  14  androidmarket           US           tier10   \n",
       "255320                  14  androidmarket           US           tier10   \n",
       "255321                  14  androidmarket           US           tier10   \n",
       "\n",
       "       currency  gross_usd_amount  price_tier  day_since_install  \\\n",
       "105         GBP          4.745136        4.99                  3   \n",
       "1193        BRL          2.294278        2.99                 10   \n",
       "1614        BRL          1.518653        3.99                  3   \n",
       "1615        BRL          2.939560        7.99                  1   \n",
       "1617        BRL          3.395845        7.99                 13   \n",
       "...         ...               ...         ...                ...   \n",
       "255314      USD          9.990000        9.99                  8   \n",
       "255315      USD          9.990000        9.99                  8   \n",
       "255319      USD          9.990000        9.99                  3   \n",
       "255320      USD          9.990000        9.99                  3   \n",
       "255321      USD          9.990000        9.99                  3   \n",
       "\n",
       "        max_price_tier  avg_price_tier  \n",
       "105               9.99        6.290000  \n",
       "1193              9.99        4.693704  \n",
       "1614              7.99        5.990000  \n",
       "1615              7.99        5.990000  \n",
       "1617              7.99        5.990000  \n",
       "...                ...             ...  \n",
       "255314           19.99        7.504286  \n",
       "255315           19.99        7.504286  \n",
       "255319           19.99        7.504286  \n",
       "255320           19.99        7.504286  \n",
       "255321           19.99        7.504286  \n",
       "\n",
       "[2166 rows x 13 columns]"
      ]
     },
     "execution_count": 151,
     "metadata": {},
     "output_type": "execute_result"
    }
   ],
   "source": [
    "### play_seconds\n",
    "### Finding the Outliers\n",
    "train[(train['play_seconds'] > 57737.993247993254) | (train['play_seconds'] < -40572.67589457357)]"
   ]
  },
  {
   "cell_type": "code",
   "execution_count": 152,
   "metadata": {},
   "outputs": [],
   "source": [
    "### play_seconds\n",
    "### Capping on Outliers\n",
    "upper_limit = train['play_seconds'].mean() + 3*train['play_seconds'].std()\n",
    "lower_limit = train['play_seconds'].mean() - 3*train['play_seconds'].std()"
   ]
  },
  {
   "cell_type": "code",
   "execution_count": 153,
   "metadata": {},
   "outputs": [],
   "source": [
    "### play_seconds\n",
    "### Now, apply the Capping\n",
    "train['play_seconds'] = np.where(\n",
    "    train['play_seconds']>upper_limit,\n",
    "    upper_limit,\n",
    "    np.where(\n",
    "        train['play_seconds']<lower_limit,\n",
    "        lower_limit,\n",
    "        train['play_seconds']\n",
    "    )\n",
    ")"
   ]
  },
  {
   "cell_type": "code",
   "execution_count": 154,
   "metadata": {},
   "outputs": [
    {
     "data": {
      "text/plain": [
       "<matplotlib.axes._subplots.AxesSubplot at 0x7ff0cdeb9550>"
      ]
     },
     "execution_count": 154,
     "metadata": {},
     "output_type": "execute_result"
    },
    {
     "data": {
      "image/png": "[encoded data removed]",
      "text/plain": [
       "<Figure size 1152x360 with 1 Axes>"
      ]
     },
     "metadata": {},
     "output_type": "display_data"
    }
   ],
   "source": [
    "### play_seconds\n",
    "import warnings\n",
    "warnings.filterwarnings('ignore')\n",
    "plt.figure(figsize=(16,5))\n",
    "plt.subplot(1,2,1)\n",
    "sns.distplot(train['play_seconds'])\n"
   ]
  },
  {
   "cell_type": "code",
   "execution_count": 155,
   "metadata": {},
   "outputs": [
    {
     "data": {
      "text/html": [
       "<div>\n",
       "<style scoped>\n",
       "    .dataframe tbody tr th:only-of-type {\n",
       "        vertical-align: middle;\n",
       "    }\n",
       "\n",
       "    .dataframe tbody tr th {\n",
       "        vertical-align: top;\n",
       "    }\n",
       "\n",
       "    .dataframe thead th {\n",
       "        text-align: right;\n",
       "    }\n",
       "</style>\n",
       "<table border=\"1\" class=\"dataframe\">\n",
       "  <thead>\n",
       "    <tr style=\"text-align: right;\">\n",
       "      <th></th>\n",
       "      <th>bfgudid</th>\n",
       "      <th>activity_date</th>\n",
       "      <th>play_seconds</th>\n",
       "      <th>play_session_count</th>\n",
       "      <th>app_store</th>\n",
       "      <th>country_code</th>\n",
       "      <th>product</th>\n",
       "      <th>currency</th>\n",
       "      <th>gross_usd_amount</th>\n",
       "      <th>price_tier</th>\n",
       "      <th>day_since_install</th>\n",
       "      <th>max_price_tier</th>\n",
       "      <th>avg_price_tier</th>\n",
       "    </tr>\n",
       "  </thead>\n",
       "  <tbody>\n",
       "    <tr>\n",
       "      <td>0</td>\n",
       "      <td>7eeae35fe8811922ece9e886e020889e431b7a26</td>\n",
       "      <td>2021-01-15</td>\n",
       "      <td>22115.0</td>\n",
       "      <td>19</td>\n",
       "      <td>androidmarket</td>\n",
       "      <td>GB</td>\n",
       "      <td>creatureupgrade3</td>\n",
       "      <td>GBP</td>\n",
       "      <td>3.401175</td>\n",
       "      <td>2.99</td>\n",
       "      <td>3</td>\n",
       "      <td>19.99</td>\n",
       "      <td>5.378889</td>\n",
       "    </tr>\n",
       "    <tr>\n",
       "      <td>1</td>\n",
       "      <td>7eeae35fe8811922ece9e886e020889e431b7a26</td>\n",
       "      <td>2021-01-15</td>\n",
       "      <td>22115.0</td>\n",
       "      <td>19</td>\n",
       "      <td>androidmarket</td>\n",
       "      <td>GB</td>\n",
       "      <td>energytierb3</td>\n",
       "      <td>GBP</td>\n",
       "      <td>3.401175</td>\n",
       "      <td>2.99</td>\n",
       "      <td>3</td>\n",
       "      <td>19.99</td>\n",
       "      <td>5.378889</td>\n",
       "    </tr>\n",
       "    <tr>\n",
       "      <td>2</td>\n",
       "      <td>7eeae35fe8811922ece9e886e020889e431b7a26</td>\n",
       "      <td>2021-01-18</td>\n",
       "      <td>28929.0</td>\n",
       "      <td>31</td>\n",
       "      <td>androidmarket</td>\n",
       "      <td>GB</td>\n",
       "      <td>energytierb3</td>\n",
       "      <td>GBP</td>\n",
       "      <td>3.385406</td>\n",
       "      <td>2.99</td>\n",
       "      <td>6</td>\n",
       "      <td>19.99</td>\n",
       "      <td>5.378889</td>\n",
       "    </tr>\n",
       "    <tr>\n",
       "      <td>3</td>\n",
       "      <td>7eeae35fe8811922ece9e886e020889e431b7a26</td>\n",
       "      <td>2021-01-18</td>\n",
       "      <td>28929.0</td>\n",
       "      <td>31</td>\n",
       "      <td>androidmarket</td>\n",
       "      <td>GB</td>\n",
       "      <td>starterbundletier5</td>\n",
       "      <td>GBP</td>\n",
       "      <td>4.745007</td>\n",
       "      <td>4.99</td>\n",
       "      <td>6</td>\n",
       "      <td>19.99</td>\n",
       "      <td>5.378889</td>\n",
       "    </tr>\n",
       "    <tr>\n",
       "      <td>4</td>\n",
       "      <td>7eeae35fe8811922ece9e886e020889e431b7a26</td>\n",
       "      <td>2021-01-18</td>\n",
       "      <td>28929.0</td>\n",
       "      <td>31</td>\n",
       "      <td>androidmarket</td>\n",
       "      <td>GB</td>\n",
       "      <td>creaturepack5</td>\n",
       "      <td>GBP</td>\n",
       "      <td>4.745007</td>\n",
       "      <td>4.99</td>\n",
       "      <td>6</td>\n",
       "      <td>19.99</td>\n",
       "      <td>5.378889</td>\n",
       "    </tr>\n",
       "    <tr>\n",
       "      <td>...</td>\n",
       "      <td>...</td>\n",
       "      <td>...</td>\n",
       "      <td>...</td>\n",
       "      <td>...</td>\n",
       "      <td>...</td>\n",
       "      <td>...</td>\n",
       "      <td>...</td>\n",
       "      <td>...</td>\n",
       "      <td>...</td>\n",
       "      <td>...</td>\n",
       "      <td>...</td>\n",
       "      <td>...</td>\n",
       "      <td>...</td>\n",
       "    </tr>\n",
       "    <tr>\n",
       "      <td>255691</td>\n",
       "      <td>e2539e2e63d88f74d9cbed6d4ab046778dfdbe21</td>\n",
       "      <td>2021-01-25</td>\n",
       "      <td>24308.0</td>\n",
       "      <td>13</td>\n",
       "      <td>androidmarket</td>\n",
       "      <td>US</td>\n",
       "      <td>tier5</td>\n",
       "      <td>USD</td>\n",
       "      <td>4.990000</td>\n",
       "      <td>4.99</td>\n",
       "      <td>2</td>\n",
       "      <td>9.99</td>\n",
       "      <td>3.227500</td>\n",
       "    </tr>\n",
       "    <tr>\n",
       "      <td>255692</td>\n",
       "      <td>e2539e2e63d88f74d9cbed6d4ab046778dfdbe21</td>\n",
       "      <td>2021-01-25</td>\n",
       "      <td>24308.0</td>\n",
       "      <td>13</td>\n",
       "      <td>androidmarket</td>\n",
       "      <td>US</td>\n",
       "      <td>tier5</td>\n",
       "      <td>USD</td>\n",
       "      <td>4.990000</td>\n",
       "      <td>4.99</td>\n",
       "      <td>2</td>\n",
       "      <td>9.99</td>\n",
       "      <td>3.227500</td>\n",
       "    </tr>\n",
       "    <tr>\n",
       "      <td>255693</td>\n",
       "      <td>e2539e2e63d88f74d9cbed6d4ab046778dfdbe21</td>\n",
       "      <td>2021-01-23</td>\n",
       "      <td>15678.0</td>\n",
       "      <td>9</td>\n",
       "      <td>androidmarket</td>\n",
       "      <td>US</td>\n",
       "      <td>bundletier7</td>\n",
       "      <td>USD</td>\n",
       "      <td>6.990000</td>\n",
       "      <td>6.99</td>\n",
       "      <td>0</td>\n",
       "      <td>9.99</td>\n",
       "      <td>3.227500</td>\n",
       "    </tr>\n",
       "    <tr>\n",
       "      <td>255694</td>\n",
       "      <td>e2539e2e63d88f74d9cbed6d4ab046778dfdbe21</td>\n",
       "      <td>2021-01-25</td>\n",
       "      <td>24308.0</td>\n",
       "      <td>13</td>\n",
       "      <td>androidmarket</td>\n",
       "      <td>US</td>\n",
       "      <td>worker7</td>\n",
       "      <td>USD</td>\n",
       "      <td>6.990000</td>\n",
       "      <td>6.99</td>\n",
       "      <td>2</td>\n",
       "      <td>9.99</td>\n",
       "      <td>3.227500</td>\n",
       "    </tr>\n",
       "    <tr>\n",
       "      <td>255695</td>\n",
       "      <td>e2539e2e63d88f74d9cbed6d4ab046778dfdbe21</td>\n",
       "      <td>2021-01-28</td>\n",
       "      <td>5729.0</td>\n",
       "      <td>11</td>\n",
       "      <td>androidmarket</td>\n",
       "      <td>US</td>\n",
       "      <td>island08</td>\n",
       "      <td>USD</td>\n",
       "      <td>7.990000</td>\n",
       "      <td>7.99</td>\n",
       "      <td>5</td>\n",
       "      <td>9.99</td>\n",
       "      <td>3.227500</td>\n",
       "    </tr>\n",
       "  </tbody>\n",
       "</table>\n",
       "<p>253530 rows × 13 columns</p>\n",
       "</div>"
      ],
      "text/plain": [
       "                                         bfgudid activity_date  play_seconds  \\\n",
       "0       7eeae35fe8811922ece9e886e020889e431b7a26    2021-01-15       22115.0   \n",
       "1       7eeae35fe8811922ece9e886e020889e431b7a26    2021-01-15       22115.0   \n",
       "2       7eeae35fe8811922ece9e886e020889e431b7a26    2021-01-18       28929.0   \n",
       "3       7eeae35fe8811922ece9e886e020889e431b7a26    2021-01-18       28929.0   \n",
       "4       7eeae35fe8811922ece9e886e020889e431b7a26    2021-01-18       28929.0   \n",
       "...                                          ...           ...           ...   \n",
       "255691  e2539e2e63d88f74d9cbed6d4ab046778dfdbe21    2021-01-25       24308.0   \n",
       "255692  e2539e2e63d88f74d9cbed6d4ab046778dfdbe21    2021-01-25       24308.0   \n",
       "255693  e2539e2e63d88f74d9cbed6d4ab046778dfdbe21    2021-01-23       15678.0   \n",
       "255694  e2539e2e63d88f74d9cbed6d4ab046778dfdbe21    2021-01-25       24308.0   \n",
       "255695  e2539e2e63d88f74d9cbed6d4ab046778dfdbe21    2021-01-28        5729.0   \n",
       "\n",
       "        play_session_count      app_store country_code             product  \\\n",
       "0                       19  androidmarket           GB    creatureupgrade3   \n",
       "1                       19  androidmarket           GB        energytierb3   \n",
       "2                       31  androidmarket           GB        energytierb3   \n",
       "3                       31  androidmarket           GB  starterbundletier5   \n",
       "4                       31  androidmarket           GB       creaturepack5   \n",
       "...                    ...            ...          ...                 ...   \n",
       "255691                  13  androidmarket           US               tier5   \n",
       "255692                  13  androidmarket           US               tier5   \n",
       "255693                   9  androidmarket           US         bundletier7   \n",
       "255694                  13  androidmarket           US             worker7   \n",
       "255695                  11  androidmarket           US            island08   \n",
       "\n",
       "       currency  gross_usd_amount  price_tier  day_since_install  \\\n",
       "0           GBP          3.401175        2.99                  3   \n",
       "1           GBP          3.401175        2.99                  3   \n",
       "2           GBP          3.385406        2.99                  6   \n",
       "3           GBP          4.745007        4.99                  6   \n",
       "4           GBP          4.745007        4.99                  6   \n",
       "...         ...               ...         ...                ...   \n",
       "255691      USD          4.990000        4.99                  2   \n",
       "255692      USD          4.990000        4.99                  2   \n",
       "255693      USD          6.990000        6.99                  0   \n",
       "255694      USD          6.990000        6.99                  2   \n",
       "255695      USD          7.990000        7.99                  5   \n",
       "\n",
       "        max_price_tier  avg_price_tier  \n",
       "0                19.99        5.378889  \n",
       "1                19.99        5.378889  \n",
       "2                19.99        5.378889  \n",
       "3                19.99        5.378889  \n",
       "4                19.99        5.378889  \n",
       "...                ...             ...  \n",
       "255691            9.99        3.227500  \n",
       "255692            9.99        3.227500  \n",
       "255693            9.99        3.227500  \n",
       "255694            9.99        3.227500  \n",
       "255695            9.99        3.227500  \n",
       "\n",
       "[253530 rows x 13 columns]"
      ]
     },
     "execution_count": 155,
     "metadata": {},
     "output_type": "execute_result"
    }
   ],
   "source": [
    "### Trimming Outliers\n",
    "new_train = train[(train['play_seconds'] < 57737.993247993254) & (train['play_seconds'] > -40572.67589457357)]\n",
    "new_train"
   ]
  },
  {
   "cell_type": "code",
   "execution_count": 156,
   "metadata": {},
   "outputs": [
    {
     "data": {
      "text/html": [
       "<div>\n",
       "<style scoped>\n",
       "    .dataframe tbody tr th:only-of-type {\n",
       "        vertical-align: middle;\n",
       "    }\n",
       "\n",
       "    .dataframe tbody tr th {\n",
       "        vertical-align: top;\n",
       "    }\n",
       "\n",
       "    .dataframe thead th {\n",
       "        text-align: right;\n",
       "    }\n",
       "</style>\n",
       "<table border=\"1\" class=\"dataframe\">\n",
       "  <thead>\n",
       "    <tr style=\"text-align: right;\">\n",
       "      <th></th>\n",
       "      <th>bfgudid</th>\n",
       "      <th>activity_date</th>\n",
       "      <th>play_seconds</th>\n",
       "      <th>play_session_count</th>\n",
       "      <th>app_store</th>\n",
       "      <th>country_code</th>\n",
       "      <th>product</th>\n",
       "      <th>currency</th>\n",
       "      <th>gross_usd_amount</th>\n",
       "      <th>price_tier</th>\n",
       "      <th>day_since_install</th>\n",
       "      <th>max_price_tier</th>\n",
       "      <th>avg_price_tier</th>\n",
       "    </tr>\n",
       "  </thead>\n",
       "  <tbody>\n",
       "    <tr>\n",
       "      <td>0</td>\n",
       "      <td>7eeae35fe8811922ece9e886e020889e431b7a26</td>\n",
       "      <td>2021-01-15</td>\n",
       "      <td>22115.0</td>\n",
       "      <td>19</td>\n",
       "      <td>androidmarket</td>\n",
       "      <td>GB</td>\n",
       "      <td>creatureupgrade3</td>\n",
       "      <td>GBP</td>\n",
       "      <td>3.401175</td>\n",
       "      <td>2.99</td>\n",
       "      <td>3</td>\n",
       "      <td>19.99</td>\n",
       "      <td>5.378889</td>\n",
       "    </tr>\n",
       "    <tr>\n",
       "      <td>1</td>\n",
       "      <td>7eeae35fe8811922ece9e886e020889e431b7a26</td>\n",
       "      <td>2021-01-15</td>\n",
       "      <td>22115.0</td>\n",
       "      <td>19</td>\n",
       "      <td>androidmarket</td>\n",
       "      <td>GB</td>\n",
       "      <td>energytierb3</td>\n",
       "      <td>GBP</td>\n",
       "      <td>3.401175</td>\n",
       "      <td>2.99</td>\n",
       "      <td>3</td>\n",
       "      <td>19.99</td>\n",
       "      <td>5.378889</td>\n",
       "    </tr>\n",
       "    <tr>\n",
       "      <td>2</td>\n",
       "      <td>7eeae35fe8811922ece9e886e020889e431b7a26</td>\n",
       "      <td>2021-01-18</td>\n",
       "      <td>28929.0</td>\n",
       "      <td>31</td>\n",
       "      <td>androidmarket</td>\n",
       "      <td>GB</td>\n",
       "      <td>energytierb3</td>\n",
       "      <td>GBP</td>\n",
       "      <td>3.385406</td>\n",
       "      <td>2.99</td>\n",
       "      <td>6</td>\n",
       "      <td>19.99</td>\n",
       "      <td>5.378889</td>\n",
       "    </tr>\n",
       "    <tr>\n",
       "      <td>3</td>\n",
       "      <td>7eeae35fe8811922ece9e886e020889e431b7a26</td>\n",
       "      <td>2021-01-18</td>\n",
       "      <td>28929.0</td>\n",
       "      <td>31</td>\n",
       "      <td>androidmarket</td>\n",
       "      <td>GB</td>\n",
       "      <td>starterbundletier5</td>\n",
       "      <td>GBP</td>\n",
       "      <td>4.745007</td>\n",
       "      <td>4.99</td>\n",
       "      <td>6</td>\n",
       "      <td>19.99</td>\n",
       "      <td>5.378889</td>\n",
       "    </tr>\n",
       "    <tr>\n",
       "      <td>4</td>\n",
       "      <td>7eeae35fe8811922ece9e886e020889e431b7a26</td>\n",
       "      <td>2021-01-18</td>\n",
       "      <td>28929.0</td>\n",
       "      <td>31</td>\n",
       "      <td>androidmarket</td>\n",
       "      <td>GB</td>\n",
       "      <td>creaturepack5</td>\n",
       "      <td>GBP</td>\n",
       "      <td>4.745007</td>\n",
       "      <td>4.99</td>\n",
       "      <td>6</td>\n",
       "      <td>19.99</td>\n",
       "      <td>5.378889</td>\n",
       "    </tr>\n",
       "  </tbody>\n",
       "</table>\n",
       "</div>"
      ],
      "text/plain": [
       "                                    bfgudid activity_date  play_seconds  \\\n",
       "0  7eeae35fe8811922ece9e886e020889e431b7a26    2021-01-15       22115.0   \n",
       "1  7eeae35fe8811922ece9e886e020889e431b7a26    2021-01-15       22115.0   \n",
       "2  7eeae35fe8811922ece9e886e020889e431b7a26    2021-01-18       28929.0   \n",
       "3  7eeae35fe8811922ece9e886e020889e431b7a26    2021-01-18       28929.0   \n",
       "4  7eeae35fe8811922ece9e886e020889e431b7a26    2021-01-18       28929.0   \n",
       "\n",
       "   play_session_count      app_store country_code             product  \\\n",
       "0                  19  androidmarket           GB    creatureupgrade3   \n",
       "1                  19  androidmarket           GB        energytierb3   \n",
       "2                  31  androidmarket           GB        energytierb3   \n",
       "3                  31  androidmarket           GB  starterbundletier5   \n",
       "4                  31  androidmarket           GB       creaturepack5   \n",
       "\n",
       "  currency  gross_usd_amount  price_tier  day_since_install  max_price_tier  \\\n",
       "0      GBP          3.401175        2.99                  3           19.99   \n",
       "1      GBP          3.401175        2.99                  3           19.99   \n",
       "2      GBP          3.385406        2.99                  6           19.99   \n",
       "3      GBP          4.745007        4.99                  6           19.99   \n",
       "4      GBP          4.745007        4.99                  6           19.99   \n",
       "\n",
       "   avg_price_tier  \n",
       "0        5.378889  \n",
       "1        5.378889  \n",
       "2        5.378889  \n",
       "3        5.378889  \n",
       "4        5.378889  "
      ]
     },
     "execution_count": 156,
     "metadata": {},
     "output_type": "execute_result"
    }
   ],
   "source": [
    "new_train.head()"
   ]
  },
  {
   "cell_type": "code",
   "execution_count": 157,
   "metadata": {},
   "outputs": [
    {
     "data": {
      "image/png": "[encoded data removed]",
      "text/plain": [
       "<Figure size 1152x360 with 1 Axes>"
      ]
     },
     "metadata": {},
     "output_type": "display_data"
    },
    {
     "data": {
      "image/png": "[encoded data removed]",
      "text/plain": [
       "<Figure size 432x288 with 1 Axes>"
      ]
     },
     "metadata": {},
     "output_type": "display_data"
    },
    {
     "data": {
      "image/png": "[encoded data removed]",
      "text/plain": [
       "<Figure size 432x288 with 1 Axes>"
      ]
     },
     "metadata": {},
     "output_type": "display_data"
    },
    {
     "data": {
      "image/png": "[encoded data removed]",
      "text/plain": [
       "<Figure size 432x288 with 1 Axes>"
      ]
     },
     "metadata": {},
     "output_type": "display_data"
    },
    {
     "data": {
      "image/png": "[encoded data removed]",
      "text/plain": [
       "<Figure size 432x288 with 1 Axes>"
      ]
     },
     "metadata": {},
     "output_type": "display_data"
    },
    {
     "data": {
      "image/png": "[encoded data removed]",
      "text/plain": [
       "<Figure size 432x288 with 1 Axes>"
      ]
     },
     "metadata": {},
     "output_type": "display_data"
    },
    {
     "data": {
      "image/png": "[encoded data removed]",
      "text/plain": [
       "<Figure size 432x288 with 1 Axes>"
      ]
     },
     "metadata": {},
     "output_type": "display_data"
    }
   ],
   "source": [
    "### play_seconds\n",
    "import warnings\n",
    "warnings.filterwarnings('ignore')\n",
    "plt.figure(figsize=(16,5))\n",
    "plt.subplot(1,2,1)\n",
    "sns.distplot(new_train['play_seconds'])\n",
    "plt.show()\n",
    "sns.distplot(train['play_session_count'])\n",
    "plt.show()\n",
    "sns.distplot(train['gross_usd_amount'])\n",
    "plt.show()\n",
    "sns.distplot(train['day_since_install'])\n",
    "plt.show()\n",
    "sns.distplot(train['max_price_tier'])\n",
    "plt.show()\n",
    "sns.distplot(train['avg_price_tier'])\n",
    "plt.show()\n",
    "sns.distplot(train['price_tier'])\n",
    "plt.show()\n"
   ]
  },
  {
   "cell_type": "markdown",
   "metadata": {},
   "source": [
    "### Exploratory Data Analysis"
   ]
  },
  {
   "cell_type": "markdown",
   "metadata": {},
   "source": [
    "In this section, we will explore the data using visualizations. This will allow us to understand the data and the relationships between variables better, which will help us build a better model."
   ]
  },
  {
   "cell_type": "markdown",
   "metadata": {},
   "source": [
    "#### Target Variable Distribution"
   ]
  },
  {
   "cell_type": "markdown",
   "metadata": {},
   "source": [
    "Our dataset contains a lot of variables, but the most important one for us to explore is the target variable. We need to understand its distribution. First, we start by plotting the violin plot for the target variable. The width of the violin represents the frequency. "
   ]
  },
  {
   "cell_type": "code",
   "execution_count": 158,
   "metadata": {},
   "outputs": [
    {
     "data": {
      "image/png": "[encoded data removed]",
      "text/plain": [
       "<Figure size 432x288 with 1 Axes>"
      ]
     },
     "metadata": {},
     "output_type": "display_data"
    }
   ],
   "source": [
    "sns.violinplot(x=new_train['price_tier'], inner=\"quartile\", color=\"#36B37E\");"
   ]
  },
  {
   "cell_type": "code",
   "execution_count": 159,
   "metadata": {},
   "outputs": [
    {
     "data": {
      "image/png": "[encoded data removed]",
      "text/plain": [
       "<Figure size 432x288 with 1 Axes>"
      ]
     },
     "metadata": {},
     "output_type": "display_data"
    }
   ],
   "source": [
    "sns.boxplot(new_train['price_tier'], whis=10, color=\"#00B8D9\");\n"
   ]
  },
  {
   "cell_type": "markdown",
   "metadata": {},
   "source": [
    "### Correlation Between Variables¶\n"
   ]
  },
  {
   "cell_type": "code",
   "execution_count": 160,
   "metadata": {},
   "outputs": [
    {
     "data": {
      "image/png": "[encoded data removed]",
      "text/plain": [
       "<Figure size 648x648 with 2 Axes>"
      ]
     },
     "metadata": {},
     "output_type": "display_data"
    }
   ],
   "source": [
    "fig, ax = plt.subplots(figsize=(9,9))\n",
    "sns.heatmap(new_train.corr(), ax=ax);"
   ]
  },
  {
   "cell_type": "markdown",
   "metadata": {},
   "source": [
    "### Relatioships Between the Target Variable and Other Varibles¶\n"
   ]
  },
  {
   "cell_type": "markdown",
   "metadata": {},
   "source": [
    "#### High Positive Correlation¶\n"
   ]
  },
  {
   "cell_type": "markdown",
   "metadata": {},
   "source": [
    "Firstly, we want to visualize the relationships between the target variable and the variables that are highly and positively correlated with it, according to what we saw in the heatmap. Namely, these variables are gross_usd_amount, and max_price_tier."
   ]
  },
  {
   "cell_type": "code",
   "execution_count": 161,
   "metadata": {},
   "outputs": [
    {
     "data": {
      "image/png": "[encoded data removed]",
      "text/plain": [
       "<Figure size 432x288 with 1 Axes>"
      ]
     },
     "metadata": {},
     "output_type": "display_data"
    }
   ],
   "source": [
    "plt.scatter(x=new_train['gross_usd_amount'], y=new_train['price_tier'], \n",
    "            color=\"orange\", edgecolors=\"#000000\", linewidths=0.5);\n",
    "plt.xlabel(\"gross_usd_amount\"); plt.ylabel(\"price_tier\");"
   ]
  },
  {
   "cell_type": "markdown",
   "metadata": {},
   "source": [
    "We can see that they are truly positively correlated"
   ]
  },
  {
   "cell_type": "code",
   "execution_count": 162,
   "metadata": {},
   "outputs": [
    {
     "data": {
      "image/png": "[encoded data removed]",
      "text/plain": [
       "<Figure size 432x288 with 1 Axes>"
      ]
     },
     "metadata": {},
     "output_type": "display_data"
    }
   ],
   "source": [
    "plt.scatter(x=new_train['max_price_tier'], y=new_train['price_tier'], \n",
    "            color=\"orange\", edgecolors=\"#000000\", linewidths=0.5);\n",
    "plt.xlabel(\"max_price_tier\"); plt.ylabel(\"price_tier\");"
   ]
  },
  {
   "cell_type": "code",
   "execution_count": 163,
   "metadata": {},
   "outputs": [
    {
     "data": {
      "image/png": "[encoded data removed]",
      "text/plain": [
       "<Figure size 432x288 with 1 Axes>"
      ]
     },
     "metadata": {},
     "output_type": "display_data"
    }
   ],
   "source": [
    "plt.scatter(x=new_train['avg_price_tier'], y=new_train['price_tier'], \n",
    "            color=\"orange\", edgecolors=\"#000000\", linewidths=0.5);\n",
    "plt.xlabel(\"avg_price_tier\"); plt.ylabel(\"price_tier\");"
   ]
  },
  {
   "cell_type": "code",
   "execution_count": 167,
   "metadata": {},
   "outputs": [
    {
     "data": {
      "text/html": [
       "<div>\n",
       "<style scoped>\n",
       "    .dataframe tbody tr th:only-of-type {\n",
       "        vertical-align: middle;\n",
       "    }\n",
       "\n",
       "    .dataframe tbody tr th {\n",
       "        vertical-align: top;\n",
       "    }\n",
       "\n",
       "    .dataframe thead th {\n",
       "        text-align: right;\n",
       "    }\n",
       "</style>\n",
       "<table border=\"1\" class=\"dataframe\">\n",
       "  <thead>\n",
       "    <tr style=\"text-align: right;\">\n",
       "      <th></th>\n",
       "      <th>bfgudid</th>\n",
       "      <th>activity_date</th>\n",
       "      <th>play_seconds</th>\n",
       "      <th>play_session_count</th>\n",
       "      <th>app_store</th>\n",
       "      <th>country_code</th>\n",
       "      <th>product</th>\n",
       "      <th>currency</th>\n",
       "      <th>gross_usd_amount</th>\n",
       "      <th>price_tier</th>\n",
       "      <th>day_since_install</th>\n",
       "      <th>max_price_tier</th>\n",
       "      <th>avg_price_tier</th>\n",
       "    </tr>\n",
       "  </thead>\n",
       "  <tbody>\n",
       "    <tr>\n",
       "      <td>0</td>\n",
       "      <td>7eeae35fe8811922ece9e886e020889e431b7a26</td>\n",
       "      <td>2021-01-15</td>\n",
       "      <td>22115.0</td>\n",
       "      <td>19</td>\n",
       "      <td>androidmarket</td>\n",
       "      <td>GB</td>\n",
       "      <td>creatureupgrade3</td>\n",
       "      <td>GBP</td>\n",
       "      <td>3.401175</td>\n",
       "      <td>2.99</td>\n",
       "      <td>3</td>\n",
       "      <td>19.99</td>\n",
       "      <td>5.378889</td>\n",
       "    </tr>\n",
       "    <tr>\n",
       "      <td>1</td>\n",
       "      <td>7eeae35fe8811922ece9e886e020889e431b7a26</td>\n",
       "      <td>2021-01-15</td>\n",
       "      <td>22115.0</td>\n",
       "      <td>19</td>\n",
       "      <td>androidmarket</td>\n",
       "      <td>GB</td>\n",
       "      <td>energytierb3</td>\n",
       "      <td>GBP</td>\n",
       "      <td>3.401175</td>\n",
       "      <td>2.99</td>\n",
       "      <td>3</td>\n",
       "      <td>19.99</td>\n",
       "      <td>5.378889</td>\n",
       "    </tr>\n",
       "    <tr>\n",
       "      <td>2</td>\n",
       "      <td>7eeae35fe8811922ece9e886e020889e431b7a26</td>\n",
       "      <td>2021-01-18</td>\n",
       "      <td>28929.0</td>\n",
       "      <td>31</td>\n",
       "      <td>androidmarket</td>\n",
       "      <td>GB</td>\n",
       "      <td>energytierb3</td>\n",
       "      <td>GBP</td>\n",
       "      <td>3.385406</td>\n",
       "      <td>2.99</td>\n",
       "      <td>6</td>\n",
       "      <td>19.99</td>\n",
       "      <td>5.378889</td>\n",
       "    </tr>\n",
       "    <tr>\n",
       "      <td>3</td>\n",
       "      <td>7eeae35fe8811922ece9e886e020889e431b7a26</td>\n",
       "      <td>2021-01-18</td>\n",
       "      <td>28929.0</td>\n",
       "      <td>31</td>\n",
       "      <td>androidmarket</td>\n",
       "      <td>GB</td>\n",
       "      <td>starterbundletier5</td>\n",
       "      <td>GBP</td>\n",
       "      <td>4.745007</td>\n",
       "      <td>4.99</td>\n",
       "      <td>6</td>\n",
       "      <td>19.99</td>\n",
       "      <td>5.378889</td>\n",
       "    </tr>\n",
       "    <tr>\n",
       "      <td>4</td>\n",
       "      <td>7eeae35fe8811922ece9e886e020889e431b7a26</td>\n",
       "      <td>2021-01-18</td>\n",
       "      <td>28929.0</td>\n",
       "      <td>31</td>\n",
       "      <td>androidmarket</td>\n",
       "      <td>GB</td>\n",
       "      <td>creaturepack5</td>\n",
       "      <td>GBP</td>\n",
       "      <td>4.745007</td>\n",
       "      <td>4.99</td>\n",
       "      <td>6</td>\n",
       "      <td>19.99</td>\n",
       "      <td>5.378889</td>\n",
       "    </tr>\n",
       "    <tr>\n",
       "      <td>...</td>\n",
       "      <td>...</td>\n",
       "      <td>...</td>\n",
       "      <td>...</td>\n",
       "      <td>...</td>\n",
       "      <td>...</td>\n",
       "      <td>...</td>\n",
       "      <td>...</td>\n",
       "      <td>...</td>\n",
       "      <td>...</td>\n",
       "      <td>...</td>\n",
       "      <td>...</td>\n",
       "      <td>...</td>\n",
       "      <td>...</td>\n",
       "    </tr>\n",
       "    <tr>\n",
       "      <td>255691</td>\n",
       "      <td>e2539e2e63d88f74d9cbed6d4ab046778dfdbe21</td>\n",
       "      <td>2021-01-25</td>\n",
       "      <td>24308.0</td>\n",
       "      <td>13</td>\n",
       "      <td>androidmarket</td>\n",
       "      <td>US</td>\n",
       "      <td>tier5</td>\n",
       "      <td>USD</td>\n",
       "      <td>4.990000</td>\n",
       "      <td>4.99</td>\n",
       "      <td>2</td>\n",
       "      <td>9.99</td>\n",
       "      <td>3.227500</td>\n",
       "    </tr>\n",
       "    <tr>\n",
       "      <td>255692</td>\n",
       "      <td>e2539e2e63d88f74d9cbed6d4ab046778dfdbe21</td>\n",
       "      <td>2021-01-25</td>\n",
       "      <td>24308.0</td>\n",
       "      <td>13</td>\n",
       "      <td>androidmarket</td>\n",
       "      <td>US</td>\n",
       "      <td>tier5</td>\n",
       "      <td>USD</td>\n",
       "      <td>4.990000</td>\n",
       "      <td>4.99</td>\n",
       "      <td>2</td>\n",
       "      <td>9.99</td>\n",
       "      <td>3.227500</td>\n",
       "    </tr>\n",
       "    <tr>\n",
       "      <td>255693</td>\n",
       "      <td>e2539e2e63d88f74d9cbed6d4ab046778dfdbe21</td>\n",
       "      <td>2021-01-23</td>\n",
       "      <td>15678.0</td>\n",
       "      <td>9</td>\n",
       "      <td>androidmarket</td>\n",
       "      <td>US</td>\n",
       "      <td>bundletier7</td>\n",
       "      <td>USD</td>\n",
       "      <td>6.990000</td>\n",
       "      <td>6.99</td>\n",
       "      <td>0</td>\n",
       "      <td>9.99</td>\n",
       "      <td>3.227500</td>\n",
       "    </tr>\n",
       "    <tr>\n",
       "      <td>255694</td>\n",
       "      <td>e2539e2e63d88f74d9cbed6d4ab046778dfdbe21</td>\n",
       "      <td>2021-01-25</td>\n",
       "      <td>24308.0</td>\n",
       "      <td>13</td>\n",
       "      <td>androidmarket</td>\n",
       "      <td>US</td>\n",
       "      <td>worker7</td>\n",
       "      <td>USD</td>\n",
       "      <td>6.990000</td>\n",
       "      <td>6.99</td>\n",
       "      <td>2</td>\n",
       "      <td>9.99</td>\n",
       "      <td>3.227500</td>\n",
       "    </tr>\n",
       "    <tr>\n",
       "      <td>255695</td>\n",
       "      <td>e2539e2e63d88f74d9cbed6d4ab046778dfdbe21</td>\n",
       "      <td>2021-01-28</td>\n",
       "      <td>5729.0</td>\n",
       "      <td>11</td>\n",
       "      <td>androidmarket</td>\n",
       "      <td>US</td>\n",
       "      <td>island08</td>\n",
       "      <td>USD</td>\n",
       "      <td>7.990000</td>\n",
       "      <td>7.99</td>\n",
       "      <td>5</td>\n",
       "      <td>9.99</td>\n",
       "      <td>3.227500</td>\n",
       "    </tr>\n",
       "  </tbody>\n",
       "</table>\n",
       "<p>253530 rows × 13 columns</p>\n",
       "</div>"
      ],
      "text/plain": [
       "                                         bfgudid activity_date  play_seconds  \\\n",
       "0       7eeae35fe8811922ece9e886e020889e431b7a26    2021-01-15       22115.0   \n",
       "1       7eeae35fe8811922ece9e886e020889e431b7a26    2021-01-15       22115.0   \n",
       "2       7eeae35fe8811922ece9e886e020889e431b7a26    2021-01-18       28929.0   \n",
       "3       7eeae35fe8811922ece9e886e020889e431b7a26    2021-01-18       28929.0   \n",
       "4       7eeae35fe8811922ece9e886e020889e431b7a26    2021-01-18       28929.0   \n",
       "...                                          ...           ...           ...   \n",
       "255691  e2539e2e63d88f74d9cbed6d4ab046778dfdbe21    2021-01-25       24308.0   \n",
       "255692  e2539e2e63d88f74d9cbed6d4ab046778dfdbe21    2021-01-25       24308.0   \n",
       "255693  e2539e2e63d88f74d9cbed6d4ab046778dfdbe21    2021-01-23       15678.0   \n",
       "255694  e2539e2e63d88f74d9cbed6d4ab046778dfdbe21    2021-01-25       24308.0   \n",
       "255695  e2539e2e63d88f74d9cbed6d4ab046778dfdbe21    2021-01-28        5729.0   \n",
       "\n",
       "        play_session_count      app_store country_code             product  \\\n",
       "0                       19  androidmarket           GB    creatureupgrade3   \n",
       "1                       19  androidmarket           GB        energytierb3   \n",
       "2                       31  androidmarket           GB        energytierb3   \n",
       "3                       31  androidmarket           GB  starterbundletier5   \n",
       "4                       31  androidmarket           GB       creaturepack5   \n",
       "...                    ...            ...          ...                 ...   \n",
       "255691                  13  androidmarket           US               tier5   \n",
       "255692                  13  androidmarket           US               tier5   \n",
       "255693                   9  androidmarket           US         bundletier7   \n",
       "255694                  13  androidmarket           US             worker7   \n",
       "255695                  11  androidmarket           US            island08   \n",
       "\n",
       "       currency  gross_usd_amount  price_tier  day_since_install  \\\n",
       "0           GBP          3.401175        2.99                  3   \n",
       "1           GBP          3.401175        2.99                  3   \n",
       "2           GBP          3.385406        2.99                  6   \n",
       "3           GBP          4.745007        4.99                  6   \n",
       "4           GBP          4.745007        4.99                  6   \n",
       "...         ...               ...         ...                ...   \n",
       "255691      USD          4.990000        4.99                  2   \n",
       "255692      USD          4.990000        4.99                  2   \n",
       "255693      USD          6.990000        6.99                  0   \n",
       "255694      USD          6.990000        6.99                  2   \n",
       "255695      USD          7.990000        7.99                  5   \n",
       "\n",
       "        max_price_tier  avg_price_tier  \n",
       "0                19.99        5.378889  \n",
       "1                19.99        5.378889  \n",
       "2                19.99        5.378889  \n",
       "3                19.99        5.378889  \n",
       "4                19.99        5.378889  \n",
       "...                ...             ...  \n",
       "255691            9.99        3.227500  \n",
       "255692            9.99        3.227500  \n",
       "255693            9.99        3.227500  \n",
       "255694            9.99        3.227500  \n",
       "255695            9.99        3.227500  \n",
       "\n",
       "[253530 rows x 13 columns]"
      ]
     },
     "execution_count": 167,
     "metadata": {},
     "output_type": "execute_result"
    }
   ],
   "source": [
    "new_train"
   ]
  },
  {
   "cell_type": "code",
   "execution_count": 168,
   "metadata": {},
   "outputs": [
    {
     "data": {
      "text/plain": [
       "bfgudid                       object\n",
       "activity_date         datetime64[ns]\n",
       "play_seconds                 float64\n",
       "play_session_count             int64\n",
       "app_store                     object\n",
       "country_code                  object\n",
       "product                       object\n",
       "currency                      object\n",
       "gross_usd_amount             float64\n",
       "price_tier                   float64\n",
       "day_since_install              int64\n",
       "max_price_tier               float64\n",
       "avg_price_tier               float64\n",
       "dtype: object"
      ]
     },
     "execution_count": 168,
     "metadata": {},
     "output_type": "execute_result"
    }
   ],
   "source": [
    "new_train.dtypes"
   ]
  },
  {
   "cell_type": "code",
   "execution_count": 46,
   "metadata": {},
   "outputs": [
    {
     "data": {
      "text/plain": [
       "50"
      ]
     },
     "execution_count": 46,
     "metadata": {},
     "output_type": "execute_result"
    }
   ],
   "source": [
    "len(train['currency'].unique())"
   ]
  },
  {
   "cell_type": "code",
   "execution_count": 112,
   "metadata": {},
   "outputs": [
    {
     "data": {
      "text/plain": [
       "34"
      ]
     },
     "execution_count": 112,
     "metadata": {},
     "output_type": "execute_result"
    }
   ],
   "source": [
    "len(test['currency'].unique())"
   ]
  },
  {
   "cell_type": "code",
   "execution_count": 113,
   "metadata": {},
   "outputs": [
    {
     "data": {
      "text/plain": [
       "94"
      ]
     },
     "execution_count": 113,
     "metadata": {},
     "output_type": "execute_result"
    }
   ],
   "source": [
    "len(train['country_code'].unique())"
   ]
  },
  {
   "cell_type": "code",
   "execution_count": 114,
   "metadata": {},
   "outputs": [
    {
     "data": {
      "text/plain": [
       "46"
      ]
     },
     "execution_count": 114,
     "metadata": {},
     "output_type": "execute_result"
    }
   ],
   "source": [
    "len(test['country_code'].unique())"
   ]
  },
  {
   "cell_type": "code",
   "execution_count": 47,
   "metadata": {},
   "outputs": [
    {
     "data": {
      "text/plain": [
       "2"
      ]
     },
     "execution_count": 47,
     "metadata": {},
     "output_type": "execute_result"
    }
   ],
   "source": [
    "len(train['app_store'].unique())"
   ]
  },
  {
   "cell_type": "code",
   "execution_count": 169,
   "metadata": {},
   "outputs": [],
   "source": [
    "new_train.drop([\"bfgudid\", \"app_store\", \"country_code\", \"product\", \"currency\"], axis = 1, inplace=True)"
   ]
  },
  {
   "cell_type": "code",
   "execution_count": 171,
   "metadata": {},
   "outputs": [],
   "source": [
    "test.drop([\"bfgudid\", \"app_store\", \"country_code\", \"product\", \"currency\"], axis = 1, inplace=True)"
   ]
  },
  {
   "cell_type": "code",
   "execution_count": 172,
   "metadata": {},
   "outputs": [],
   "source": [
    "new_train.drop([\"activity_date\"], axis = 1, inplace=True)"
   ]
  },
  {
   "cell_type": "code",
   "execution_count": 176,
   "metadata": {},
   "outputs": [],
   "source": [
    "test.drop([\"activity_date\"], axis = 1, inplace=True)"
   ]
  },
  {
   "cell_type": "code",
   "execution_count": 72,
   "metadata": {},
   "outputs": [],
   "source": [
    "new_train1 = pd.get_dummies(new_train)"
   ]
  },
  {
   "cell_type": "code",
   "execution_count": 183,
   "metadata": {},
   "outputs": [
    {
     "data": {
      "text/html": [
       "<div>\n",
       "<style scoped>\n",
       "    .dataframe tbody tr th:only-of-type {\n",
       "        vertical-align: middle;\n",
       "    }\n",
       "\n",
       "    .dataframe tbody tr th {\n",
       "        vertical-align: top;\n",
       "    }\n",
       "\n",
       "    .dataframe thead th {\n",
       "        text-align: right;\n",
       "    }\n",
       "</style>\n",
       "<table border=\"1\" class=\"dataframe\">\n",
       "  <thead>\n",
       "    <tr style=\"text-align: right;\">\n",
       "      <th></th>\n",
       "      <th>play_seconds</th>\n",
       "      <th>play_session_count</th>\n",
       "      <th>gross_usd_amount</th>\n",
       "      <th>price_tier</th>\n",
       "      <th>day_since_install</th>\n",
       "      <th>max_price_tier</th>\n",
       "      <th>avg_price_tier</th>\n",
       "    </tr>\n",
       "  </thead>\n",
       "  <tbody>\n",
       "    <tr>\n",
       "      <td>0</td>\n",
       "      <td>22115.0</td>\n",
       "      <td>19</td>\n",
       "      <td>3.401175</td>\n",
       "      <td>2.99</td>\n",
       "      <td>3</td>\n",
       "      <td>19.99</td>\n",
       "      <td>5.378889</td>\n",
       "    </tr>\n",
       "    <tr>\n",
       "      <td>1</td>\n",
       "      <td>22115.0</td>\n",
       "      <td>19</td>\n",
       "      <td>3.401175</td>\n",
       "      <td>2.99</td>\n",
       "      <td>3</td>\n",
       "      <td>19.99</td>\n",
       "      <td>5.378889</td>\n",
       "    </tr>\n",
       "    <tr>\n",
       "      <td>2</td>\n",
       "      <td>28929.0</td>\n",
       "      <td>31</td>\n",
       "      <td>3.385406</td>\n",
       "      <td>2.99</td>\n",
       "      <td>6</td>\n",
       "      <td>19.99</td>\n",
       "      <td>5.378889</td>\n",
       "    </tr>\n",
       "    <tr>\n",
       "      <td>3</td>\n",
       "      <td>28929.0</td>\n",
       "      <td>31</td>\n",
       "      <td>4.745007</td>\n",
       "      <td>4.99</td>\n",
       "      <td>6</td>\n",
       "      <td>19.99</td>\n",
       "      <td>5.378889</td>\n",
       "    </tr>\n",
       "    <tr>\n",
       "      <td>4</td>\n",
       "      <td>28929.0</td>\n",
       "      <td>31</td>\n",
       "      <td>4.745007</td>\n",
       "      <td>4.99</td>\n",
       "      <td>6</td>\n",
       "      <td>19.99</td>\n",
       "      <td>5.378889</td>\n",
       "    </tr>\n",
       "  </tbody>\n",
       "</table>\n",
       "</div>"
      ],
      "text/plain": [
       "   play_seconds  play_session_count  gross_usd_amount  price_tier  \\\n",
       "0       22115.0                  19          3.401175        2.99   \n",
       "1       22115.0                  19          3.401175        2.99   \n",
       "2       28929.0                  31          3.385406        2.99   \n",
       "3       28929.0                  31          4.745007        4.99   \n",
       "4       28929.0                  31          4.745007        4.99   \n",
       "\n",
       "   day_since_install  max_price_tier  avg_price_tier  \n",
       "0                  3           19.99        5.378889  \n",
       "1                  3           19.99        5.378889  \n",
       "2                  6           19.99        5.378889  \n",
       "3                  6           19.99        5.378889  \n",
       "4                  6           19.99        5.378889  "
      ]
     },
     "execution_count": 183,
     "metadata": {},
     "output_type": "execute_result"
    }
   ],
   "source": [
    "new_train.head()"
   ]
  },
  {
   "cell_type": "code",
   "execution_count": 174,
   "metadata": {},
   "outputs": [
    {
     "data": {
      "text/plain": [
       "play_seconds          float64\n",
       "play_session_count      int64\n",
       "gross_usd_amount      float64\n",
       "price_tier            float64\n",
       "day_since_install       int64\n",
       "max_price_tier        float64\n",
       "avg_price_tier        float64\n",
       "dtype: object"
      ]
     },
     "execution_count": 174,
     "metadata": {},
     "output_type": "execute_result"
    }
   ],
   "source": [
    "new_train.dtypes"
   ]
  },
  {
   "cell_type": "code",
   "execution_count": 177,
   "metadata": {},
   "outputs": [
    {
     "data": {
      "text/plain": [
       "play_seconds            int64\n",
       "play_session_count      int64\n",
       "gross_usd_amount      float64\n",
       "price_tier            float64\n",
       "day_since_install       int64\n",
       "max_price_tier        float64\n",
       "avg_price_tier        float64\n",
       "dtype: object"
      ]
     },
     "execution_count": 177,
     "metadata": {},
     "output_type": "execute_result"
    }
   ],
   "source": [
    "test.dtypes"
   ]
  },
  {
   "cell_type": "code",
   "execution_count": 178,
   "metadata": {},
   "outputs": [
    {
     "data": {
      "text/html": [
       "<div>\n",
       "<style scoped>\n",
       "    .dataframe tbody tr th:only-of-type {\n",
       "        vertical-align: middle;\n",
       "    }\n",
       "\n",
       "    .dataframe tbody tr th {\n",
       "        vertical-align: top;\n",
       "    }\n",
       "\n",
       "    .dataframe thead th {\n",
       "        text-align: right;\n",
       "    }\n",
       "</style>\n",
       "<table border=\"1\" class=\"dataframe\">\n",
       "  <thead>\n",
       "    <tr style=\"text-align: right;\">\n",
       "      <th></th>\n",
       "      <th>play_seconds</th>\n",
       "      <th>play_session_count</th>\n",
       "      <th>gross_usd_amount</th>\n",
       "      <th>price_tier</th>\n",
       "      <th>day_since_install</th>\n",
       "      <th>max_price_tier</th>\n",
       "      <th>avg_price_tier</th>\n",
       "    </tr>\n",
       "  </thead>\n",
       "  <tbody>\n",
       "    <tr>\n",
       "      <td>0</td>\n",
       "      <td>7815</td>\n",
       "      <td>12</td>\n",
       "      <td>3.438189</td>\n",
       "      <td>2.99</td>\n",
       "      <td>4</td>\n",
       "      <td>2.99</td>\n",
       "      <td>2.99</td>\n",
       "    </tr>\n",
       "    <tr>\n",
       "      <td>1</td>\n",
       "      <td>1516</td>\n",
       "      <td>5</td>\n",
       "      <td>3.460608</td>\n",
       "      <td>2.99</td>\n",
       "      <td>1</td>\n",
       "      <td>2.99</td>\n",
       "      <td>2.99</td>\n",
       "    </tr>\n",
       "    <tr>\n",
       "      <td>2</td>\n",
       "      <td>7968</td>\n",
       "      <td>13</td>\n",
       "      <td>3.620749</td>\n",
       "      <td>2.99</td>\n",
       "      <td>3</td>\n",
       "      <td>2.99</td>\n",
       "      <td>2.99</td>\n",
       "    </tr>\n",
       "    <tr>\n",
       "      <td>3</td>\n",
       "      <td>1046</td>\n",
       "      <td>4</td>\n",
       "      <td>3.780890</td>\n",
       "      <td>2.99</td>\n",
       "      <td>0</td>\n",
       "      <td>2.99</td>\n",
       "      <td>2.99</td>\n",
       "    </tr>\n",
       "    <tr>\n",
       "      <td>4</td>\n",
       "      <td>3862</td>\n",
       "      <td>13</td>\n",
       "      <td>3.941031</td>\n",
       "      <td>2.99</td>\n",
       "      <td>2</td>\n",
       "      <td>2.99</td>\n",
       "      <td>2.99</td>\n",
       "    </tr>\n",
       "  </tbody>\n",
       "</table>\n",
       "</div>"
      ],
      "text/plain": [
       "   play_seconds  play_session_count  gross_usd_amount  price_tier  \\\n",
       "0          7815                  12          3.438189        2.99   \n",
       "1          1516                   5          3.460608        2.99   \n",
       "2          7968                  13          3.620749        2.99   \n",
       "3          1046                   4          3.780890        2.99   \n",
       "4          3862                  13          3.941031        2.99   \n",
       "\n",
       "   day_since_install  max_price_tier  avg_price_tier  \n",
       "0                  4            2.99            2.99  \n",
       "1                  1            2.99            2.99  \n",
       "2                  3            2.99            2.99  \n",
       "3                  0            2.99            2.99  \n",
       "4                  2            2.99            2.99  "
      ]
     },
     "execution_count": 178,
     "metadata": {},
     "output_type": "execute_result"
    }
   ],
   "source": [
    "test.head()"
   ]
  },
  {
   "cell_type": "markdown",
   "metadata": {},
   "source": [
    "### Train-Test Split"
   ]
  },
  {
   "cell_type": "code",
   "execution_count": 179,
   "metadata": {},
   "outputs": [],
   "source": [
    "X_train = new_train.drop(columns='price_tier')\n",
    "y_train = new_train['price_tier']\n",
    "X_test = test.drop(columns='price_tier')\n",
    "y_test = test['price_tier']"
   ]
  },
  {
   "cell_type": "code",
   "execution_count": 180,
   "metadata": {},
   "outputs": [
    {
     "data": {
      "text/plain": [
       "dtype('float64')"
      ]
     },
     "execution_count": 180,
     "metadata": {},
     "output_type": "execute_result"
    }
   ],
   "source": [
    "y_train.dtypes"
   ]
  },
  {
   "cell_type": "code",
   "execution_count": 181,
   "metadata": {},
   "outputs": [
    {
     "data": {
      "text/plain": [
       "<bound method NDFrame.describe of 0         2.99\n",
       "1         2.99\n",
       "2         2.99\n",
       "3         4.99\n",
       "4         4.99\n",
       "          ... \n",
       "255691    4.99\n",
       "255692    4.99\n",
       "255693    6.99\n",
       "255694    6.99\n",
       "255695    7.99\n",
       "Name: price_tier, Length: 253530, dtype: float64>"
      ]
     },
     "execution_count": 181,
     "metadata": {},
     "output_type": "execute_result"
    }
   ],
   "source": [
    "y_train.describe"
   ]
  },
  {
   "cell_type": "code",
   "execution_count": 184,
   "metadata": {},
   "outputs": [
    {
     "data": {
      "text/plain": [
       "<bound method NDFrame.describe of         play_seconds  play_session_count  gross_usd_amount  price_tier  \\\n",
       "0            22115.0                  19          3.401175        2.99   \n",
       "1            22115.0                  19          3.401175        2.99   \n",
       "2            28929.0                  31          3.385406        2.99   \n",
       "3            28929.0                  31          4.745007        4.99   \n",
       "4            28929.0                  31          4.745007        4.99   \n",
       "...              ...                 ...               ...         ...   \n",
       "255691       24308.0                  13          4.990000        4.99   \n",
       "255692       24308.0                  13          4.990000        4.99   \n",
       "255693       15678.0                   9          6.990000        6.99   \n",
       "255694       24308.0                  13          6.990000        6.99   \n",
       "255695        5729.0                  11          7.990000        7.99   \n",
       "\n",
       "        day_since_install  max_price_tier  avg_price_tier  \n",
       "0                       3           19.99        5.378889  \n",
       "1                       3           19.99        5.378889  \n",
       "2                       6           19.99        5.378889  \n",
       "3                       6           19.99        5.378889  \n",
       "4                       6           19.99        5.378889  \n",
       "...                   ...             ...             ...  \n",
       "255691                  2            9.99        3.227500  \n",
       "255692                  2            9.99        3.227500  \n",
       "255693                  0            9.99        3.227500  \n",
       "255694                  2            9.99        3.227500  \n",
       "255695                  5            9.99        3.227500  \n",
       "\n",
       "[253530 rows x 7 columns]>"
      ]
     },
     "execution_count": 184,
     "metadata": {},
     "output_type": "execute_result"
    }
   ],
   "source": [
    "new_train.describe"
   ]
  },
  {
   "cell_type": "code",
   "execution_count": 185,
   "metadata": {},
   "outputs": [
    {
     "data": {
      "text/html": [
       "<div>\n",
       "<style scoped>\n",
       "    .dataframe tbody tr th:only-of-type {\n",
       "        vertical-align: middle;\n",
       "    }\n",
       "\n",
       "    .dataframe tbody tr th {\n",
       "        vertical-align: top;\n",
       "    }\n",
       "\n",
       "    .dataframe thead th {\n",
       "        text-align: right;\n",
       "    }\n",
       "</style>\n",
       "<table border=\"1\" class=\"dataframe\">\n",
       "  <thead>\n",
       "    <tr style=\"text-align: right;\">\n",
       "      <th></th>\n",
       "      <th>play_seconds</th>\n",
       "      <th>play_session_count</th>\n",
       "      <th>gross_usd_amount</th>\n",
       "      <th>day_since_install</th>\n",
       "      <th>max_price_tier</th>\n",
       "      <th>avg_price_tier</th>\n",
       "    </tr>\n",
       "  </thead>\n",
       "  <tbody>\n",
       "    <tr>\n",
       "      <td>0</td>\n",
       "      <td>22115.0</td>\n",
       "      <td>19</td>\n",
       "      <td>3.401175</td>\n",
       "      <td>3</td>\n",
       "      <td>19.99</td>\n",
       "      <td>5.378889</td>\n",
       "    </tr>\n",
       "    <tr>\n",
       "      <td>1</td>\n",
       "      <td>22115.0</td>\n",
       "      <td>19</td>\n",
       "      <td>3.401175</td>\n",
       "      <td>3</td>\n",
       "      <td>19.99</td>\n",
       "      <td>5.378889</td>\n",
       "    </tr>\n",
       "    <tr>\n",
       "      <td>2</td>\n",
       "      <td>28929.0</td>\n",
       "      <td>31</td>\n",
       "      <td>3.385406</td>\n",
       "      <td>6</td>\n",
       "      <td>19.99</td>\n",
       "      <td>5.378889</td>\n",
       "    </tr>\n",
       "    <tr>\n",
       "      <td>3</td>\n",
       "      <td>28929.0</td>\n",
       "      <td>31</td>\n",
       "      <td>4.745007</td>\n",
       "      <td>6</td>\n",
       "      <td>19.99</td>\n",
       "      <td>5.378889</td>\n",
       "    </tr>\n",
       "    <tr>\n",
       "      <td>4</td>\n",
       "      <td>28929.0</td>\n",
       "      <td>31</td>\n",
       "      <td>4.745007</td>\n",
       "      <td>6</td>\n",
       "      <td>19.99</td>\n",
       "      <td>5.378889</td>\n",
       "    </tr>\n",
       "  </tbody>\n",
       "</table>\n",
       "</div>"
      ],
      "text/plain": [
       "   play_seconds  play_session_count  gross_usd_amount  day_since_install  \\\n",
       "0       22115.0                  19          3.401175                  3   \n",
       "1       22115.0                  19          3.401175                  3   \n",
       "2       28929.0                  31          3.385406                  6   \n",
       "3       28929.0                  31          4.745007                  6   \n",
       "4       28929.0                  31          4.745007                  6   \n",
       "\n",
       "   max_price_tier  avg_price_tier  \n",
       "0           19.99        5.378889  \n",
       "1           19.99        5.378889  \n",
       "2           19.99        5.378889  \n",
       "3           19.99        5.378889  \n",
       "4           19.99        5.378889  "
      ]
     },
     "execution_count": 185,
     "metadata": {},
     "output_type": "execute_result"
    }
   ],
   "source": [
    "X_train.head()"
   ]
  },
  {
   "cell_type": "code",
   "execution_count": 186,
   "metadata": {},
   "outputs": [
    {
     "data": {
      "text/plain": [
       "play_seconds          float64\n",
       "play_session_count      int64\n",
       "gross_usd_amount      float64\n",
       "day_since_install       int64\n",
       "max_price_tier        float64\n",
       "avg_price_tier        float64\n",
       "dtype: object"
      ]
     },
     "execution_count": 186,
     "metadata": {},
     "output_type": "execute_result"
    }
   ],
   "source": [
    "X_train.dtypes"
   ]
  },
  {
   "cell_type": "code",
   "execution_count": 187,
   "metadata": {},
   "outputs": [
    {
     "data": {
      "text/html": [
       "<div>\n",
       "<style scoped>\n",
       "    .dataframe tbody tr th:only-of-type {\n",
       "        vertical-align: middle;\n",
       "    }\n",
       "\n",
       "    .dataframe tbody tr th {\n",
       "        vertical-align: top;\n",
       "    }\n",
       "\n",
       "    .dataframe thead th {\n",
       "        text-align: right;\n",
       "    }\n",
       "</style>\n",
       "<table border=\"1\" class=\"dataframe\">\n",
       "  <thead>\n",
       "    <tr style=\"text-align: right;\">\n",
       "      <th></th>\n",
       "      <th>play_seconds</th>\n",
       "      <th>play_session_count</th>\n",
       "      <th>gross_usd_amount</th>\n",
       "      <th>day_since_install</th>\n",
       "      <th>max_price_tier</th>\n",
       "      <th>avg_price_tier</th>\n",
       "    </tr>\n",
       "  </thead>\n",
       "  <tbody>\n",
       "    <tr>\n",
       "      <td>0</td>\n",
       "      <td>22115.0</td>\n",
       "      <td>19</td>\n",
       "      <td>3.401175</td>\n",
       "      <td>3</td>\n",
       "      <td>19.99</td>\n",
       "      <td>5.378889</td>\n",
       "    </tr>\n",
       "    <tr>\n",
       "      <td>1</td>\n",
       "      <td>22115.0</td>\n",
       "      <td>19</td>\n",
       "      <td>3.401175</td>\n",
       "      <td>3</td>\n",
       "      <td>19.99</td>\n",
       "      <td>5.378889</td>\n",
       "    </tr>\n",
       "    <tr>\n",
       "      <td>2</td>\n",
       "      <td>28929.0</td>\n",
       "      <td>31</td>\n",
       "      <td>3.385406</td>\n",
       "      <td>6</td>\n",
       "      <td>19.99</td>\n",
       "      <td>5.378889</td>\n",
       "    </tr>\n",
       "    <tr>\n",
       "      <td>3</td>\n",
       "      <td>28929.0</td>\n",
       "      <td>31</td>\n",
       "      <td>4.745007</td>\n",
       "      <td>6</td>\n",
       "      <td>19.99</td>\n",
       "      <td>5.378889</td>\n",
       "    </tr>\n",
       "    <tr>\n",
       "      <td>4</td>\n",
       "      <td>28929.0</td>\n",
       "      <td>31</td>\n",
       "      <td>4.745007</td>\n",
       "      <td>6</td>\n",
       "      <td>19.99</td>\n",
       "      <td>5.378889</td>\n",
       "    </tr>\n",
       "    <tr>\n",
       "      <td>...</td>\n",
       "      <td>...</td>\n",
       "      <td>...</td>\n",
       "      <td>...</td>\n",
       "      <td>...</td>\n",
       "      <td>...</td>\n",
       "      <td>...</td>\n",
       "    </tr>\n",
       "    <tr>\n",
       "      <td>255691</td>\n",
       "      <td>24308.0</td>\n",
       "      <td>13</td>\n",
       "      <td>4.990000</td>\n",
       "      <td>2</td>\n",
       "      <td>9.99</td>\n",
       "      <td>3.227500</td>\n",
       "    </tr>\n",
       "    <tr>\n",
       "      <td>255692</td>\n",
       "      <td>24308.0</td>\n",
       "      <td>13</td>\n",
       "      <td>4.990000</td>\n",
       "      <td>2</td>\n",
       "      <td>9.99</td>\n",
       "      <td>3.227500</td>\n",
       "    </tr>\n",
       "    <tr>\n",
       "      <td>255693</td>\n",
       "      <td>15678.0</td>\n",
       "      <td>9</td>\n",
       "      <td>6.990000</td>\n",
       "      <td>0</td>\n",
       "      <td>9.99</td>\n",
       "      <td>3.227500</td>\n",
       "    </tr>\n",
       "    <tr>\n",
       "      <td>255694</td>\n",
       "      <td>24308.0</td>\n",
       "      <td>13</td>\n",
       "      <td>6.990000</td>\n",
       "      <td>2</td>\n",
       "      <td>9.99</td>\n",
       "      <td>3.227500</td>\n",
       "    </tr>\n",
       "    <tr>\n",
       "      <td>255695</td>\n",
       "      <td>5729.0</td>\n",
       "      <td>11</td>\n",
       "      <td>7.990000</td>\n",
       "      <td>5</td>\n",
       "      <td>9.99</td>\n",
       "      <td>3.227500</td>\n",
       "    </tr>\n",
       "  </tbody>\n",
       "</table>\n",
       "<p>253530 rows × 6 columns</p>\n",
       "</div>"
      ],
      "text/plain": [
       "        play_seconds  play_session_count  gross_usd_amount  day_since_install  \\\n",
       "0            22115.0                  19          3.401175                  3   \n",
       "1            22115.0                  19          3.401175                  3   \n",
       "2            28929.0                  31          3.385406                  6   \n",
       "3            28929.0                  31          4.745007                  6   \n",
       "4            28929.0                  31          4.745007                  6   \n",
       "...              ...                 ...               ...                ...   \n",
       "255691       24308.0                  13          4.990000                  2   \n",
       "255692       24308.0                  13          4.990000                  2   \n",
       "255693       15678.0                   9          6.990000                  0   \n",
       "255694       24308.0                  13          6.990000                  2   \n",
       "255695        5729.0                  11          7.990000                  5   \n",
       "\n",
       "        max_price_tier  avg_price_tier  \n",
       "0                19.99        5.378889  \n",
       "1                19.99        5.378889  \n",
       "2                19.99        5.378889  \n",
       "3                19.99        5.378889  \n",
       "4                19.99        5.378889  \n",
       "...                ...             ...  \n",
       "255691            9.99        3.227500  \n",
       "255692            9.99        3.227500  \n",
       "255693            9.99        3.227500  \n",
       "255694            9.99        3.227500  \n",
       "255695            9.99        3.227500  \n",
       "\n",
       "[253530 rows x 6 columns]"
      ]
     },
     "execution_count": 187,
     "metadata": {},
     "output_type": "execute_result"
    }
   ],
   "source": [
    "X_train"
   ]
  },
  {
   "cell_type": "code",
   "execution_count": 188,
   "metadata": {},
   "outputs": [],
   "source": [
    "X_train_values = X_train.values"
   ]
  },
  {
   "cell_type": "code",
   "execution_count": 189,
   "metadata": {},
   "outputs": [
    {
     "data": {
      "text/plain": [
       "array([[2.21150000e+04, 1.90000000e+01, 3.40117481e+00, 3.00000000e+00,\n",
       "        1.99900000e+01, 5.37888889e+00],\n",
       "       [2.21150000e+04, 1.90000000e+01, 3.40117481e+00, 3.00000000e+00,\n",
       "        1.99900000e+01, 5.37888889e+00],\n",
       "       [2.89290000e+04, 3.10000000e+01, 3.38540595e+00, 6.00000000e+00,\n",
       "        1.99900000e+01, 5.37888889e+00],\n",
       "       ...,\n",
       "       [1.56780000e+04, 9.00000000e+00, 6.99000000e+00, 0.00000000e+00,\n",
       "        9.99000000e+00, 3.22750000e+00],\n",
       "       [2.43080000e+04, 1.30000000e+01, 6.99000000e+00, 2.00000000e+00,\n",
       "        9.99000000e+00, 3.22750000e+00],\n",
       "       [5.72900000e+03, 1.10000000e+01, 7.99000000e+00, 5.00000000e+00,\n",
       "        9.99000000e+00, 3.22750000e+00]])"
      ]
     },
     "execution_count": 189,
     "metadata": {},
     "output_type": "execute_result"
    }
   ],
   "source": [
    "X_train_values"
   ]
  },
  {
   "cell_type": "code",
   "execution_count": 190,
   "metadata": {},
   "outputs": [],
   "source": [
    "y_train_values = y_train.values"
   ]
  },
  {
   "cell_type": "code",
   "execution_count": 191,
   "metadata": {},
   "outputs": [],
   "source": [
    "X_test_values = X_test.values"
   ]
  },
  {
   "cell_type": "code",
   "execution_count": 192,
   "metadata": {},
   "outputs": [],
   "source": [
    "y_test_values = y_test.values"
   ]
  },
  {
   "cell_type": "code",
   "execution_count": 193,
   "metadata": {},
   "outputs": [
    {
     "data": {
      "text/plain": [
       "array([2.99, 2.99, 2.99, ..., 6.99, 6.99, 7.99])"
      ]
     },
     "execution_count": 193,
     "metadata": {},
     "output_type": "execute_result"
    }
   ],
   "source": [
    "y_train_values"
   ]
  },
  {
   "cell_type": "code",
   "execution_count": 194,
   "metadata": {},
   "outputs": [
    {
     "data": {
      "text/html": [
       "<div>\n",
       "<style scoped>\n",
       "    .dataframe tbody tr th:only-of-type {\n",
       "        vertical-align: middle;\n",
       "    }\n",
       "\n",
       "    .dataframe tbody tr th {\n",
       "        vertical-align: top;\n",
       "    }\n",
       "\n",
       "    .dataframe thead th {\n",
       "        text-align: right;\n",
       "    }\n",
       "</style>\n",
       "<table border=\"1\" class=\"dataframe\">\n",
       "  <thead>\n",
       "    <tr style=\"text-align: right;\">\n",
       "      <th></th>\n",
       "      <th>play_seconds</th>\n",
       "      <th>play_session_count</th>\n",
       "      <th>gross_usd_amount</th>\n",
       "      <th>day_since_install</th>\n",
       "      <th>max_price_tier</th>\n",
       "      <th>avg_price_tier</th>\n",
       "    </tr>\n",
       "  </thead>\n",
       "  <tbody>\n",
       "    <tr>\n",
       "      <td>0</td>\n",
       "      <td>22115.0</td>\n",
       "      <td>19</td>\n",
       "      <td>3.401175</td>\n",
       "      <td>3</td>\n",
       "      <td>19.99</td>\n",
       "      <td>5.378889</td>\n",
       "    </tr>\n",
       "    <tr>\n",
       "      <td>1</td>\n",
       "      <td>22115.0</td>\n",
       "      <td>19</td>\n",
       "      <td>3.401175</td>\n",
       "      <td>3</td>\n",
       "      <td>19.99</td>\n",
       "      <td>5.378889</td>\n",
       "    </tr>\n",
       "    <tr>\n",
       "      <td>2</td>\n",
       "      <td>28929.0</td>\n",
       "      <td>31</td>\n",
       "      <td>3.385406</td>\n",
       "      <td>6</td>\n",
       "      <td>19.99</td>\n",
       "      <td>5.378889</td>\n",
       "    </tr>\n",
       "    <tr>\n",
       "      <td>3</td>\n",
       "      <td>28929.0</td>\n",
       "      <td>31</td>\n",
       "      <td>4.745007</td>\n",
       "      <td>6</td>\n",
       "      <td>19.99</td>\n",
       "      <td>5.378889</td>\n",
       "    </tr>\n",
       "    <tr>\n",
       "      <td>4</td>\n",
       "      <td>28929.0</td>\n",
       "      <td>31</td>\n",
       "      <td>4.745007</td>\n",
       "      <td>6</td>\n",
       "      <td>19.99</td>\n",
       "      <td>5.378889</td>\n",
       "    </tr>\n",
       "    <tr>\n",
       "      <td>...</td>\n",
       "      <td>...</td>\n",
       "      <td>...</td>\n",
       "      <td>...</td>\n",
       "      <td>...</td>\n",
       "      <td>...</td>\n",
       "      <td>...</td>\n",
       "    </tr>\n",
       "    <tr>\n",
       "      <td>255691</td>\n",
       "      <td>24308.0</td>\n",
       "      <td>13</td>\n",
       "      <td>4.990000</td>\n",
       "      <td>2</td>\n",
       "      <td>9.99</td>\n",
       "      <td>3.227500</td>\n",
       "    </tr>\n",
       "    <tr>\n",
       "      <td>255692</td>\n",
       "      <td>24308.0</td>\n",
       "      <td>13</td>\n",
       "      <td>4.990000</td>\n",
       "      <td>2</td>\n",
       "      <td>9.99</td>\n",
       "      <td>3.227500</td>\n",
       "    </tr>\n",
       "    <tr>\n",
       "      <td>255693</td>\n",
       "      <td>15678.0</td>\n",
       "      <td>9</td>\n",
       "      <td>6.990000</td>\n",
       "      <td>0</td>\n",
       "      <td>9.99</td>\n",
       "      <td>3.227500</td>\n",
       "    </tr>\n",
       "    <tr>\n",
       "      <td>255694</td>\n",
       "      <td>24308.0</td>\n",
       "      <td>13</td>\n",
       "      <td>6.990000</td>\n",
       "      <td>2</td>\n",
       "      <td>9.99</td>\n",
       "      <td>3.227500</td>\n",
       "    </tr>\n",
       "    <tr>\n",
       "      <td>255695</td>\n",
       "      <td>5729.0</td>\n",
       "      <td>11</td>\n",
       "      <td>7.990000</td>\n",
       "      <td>5</td>\n",
       "      <td>9.99</td>\n",
       "      <td>3.227500</td>\n",
       "    </tr>\n",
       "  </tbody>\n",
       "</table>\n",
       "<p>253530 rows × 6 columns</p>\n",
       "</div>"
      ],
      "text/plain": [
       "        play_seconds  play_session_count  gross_usd_amount  day_since_install  \\\n",
       "0            22115.0                  19          3.401175                  3   \n",
       "1            22115.0                  19          3.401175                  3   \n",
       "2            28929.0                  31          3.385406                  6   \n",
       "3            28929.0                  31          4.745007                  6   \n",
       "4            28929.0                  31          4.745007                  6   \n",
       "...              ...                 ...               ...                ...   \n",
       "255691       24308.0                  13          4.990000                  2   \n",
       "255692       24308.0                  13          4.990000                  2   \n",
       "255693       15678.0                   9          6.990000                  0   \n",
       "255694       24308.0                  13          6.990000                  2   \n",
       "255695        5729.0                  11          7.990000                  5   \n",
       "\n",
       "        max_price_tier  avg_price_tier  \n",
       "0                19.99        5.378889  \n",
       "1                19.99        5.378889  \n",
       "2                19.99        5.378889  \n",
       "3                19.99        5.378889  \n",
       "4                19.99        5.378889  \n",
       "...                ...             ...  \n",
       "255691            9.99        3.227500  \n",
       "255692            9.99        3.227500  \n",
       "255693            9.99        3.227500  \n",
       "255694            9.99        3.227500  \n",
       "255695            9.99        3.227500  \n",
       "\n",
       "[253530 rows x 6 columns]"
      ]
     },
     "execution_count": 194,
     "metadata": {},
     "output_type": "execute_result"
    }
   ],
   "source": [
    "X_train"
   ]
  },
  {
   "cell_type": "code",
   "execution_count": 195,
   "metadata": {},
   "outputs": [
    {
     "data": {
      "text/html": [
       "<div>\n",
       "<style scoped>\n",
       "    .dataframe tbody tr th:only-of-type {\n",
       "        vertical-align: middle;\n",
       "    }\n",
       "\n",
       "    .dataframe tbody tr th {\n",
       "        vertical-align: top;\n",
       "    }\n",
       "\n",
       "    .dataframe thead th {\n",
       "        text-align: right;\n",
       "    }\n",
       "</style>\n",
       "<table border=\"1\" class=\"dataframe\">\n",
       "  <thead>\n",
       "    <tr style=\"text-align: right;\">\n",
       "      <th></th>\n",
       "      <th>play_seconds</th>\n",
       "      <th>play_session_count</th>\n",
       "      <th>gross_usd_amount</th>\n",
       "      <th>day_since_install</th>\n",
       "      <th>max_price_tier</th>\n",
       "      <th>avg_price_tier</th>\n",
       "    </tr>\n",
       "  </thead>\n",
       "  <tbody>\n",
       "    <tr>\n",
       "      <td>0</td>\n",
       "      <td>7815</td>\n",
       "      <td>12</td>\n",
       "      <td>3.438189</td>\n",
       "      <td>4</td>\n",
       "      <td>2.99</td>\n",
       "      <td>2.99</td>\n",
       "    </tr>\n",
       "    <tr>\n",
       "      <td>1</td>\n",
       "      <td>1516</td>\n",
       "      <td>5</td>\n",
       "      <td>3.460608</td>\n",
       "      <td>1</td>\n",
       "      <td>2.99</td>\n",
       "      <td>2.99</td>\n",
       "    </tr>\n",
       "    <tr>\n",
       "      <td>2</td>\n",
       "      <td>7968</td>\n",
       "      <td>13</td>\n",
       "      <td>3.620749</td>\n",
       "      <td>3</td>\n",
       "      <td>2.99</td>\n",
       "      <td>2.99</td>\n",
       "    </tr>\n",
       "    <tr>\n",
       "      <td>3</td>\n",
       "      <td>1046</td>\n",
       "      <td>4</td>\n",
       "      <td>3.780890</td>\n",
       "      <td>0</td>\n",
       "      <td>2.99</td>\n",
       "      <td>2.99</td>\n",
       "    </tr>\n",
       "    <tr>\n",
       "      <td>4</td>\n",
       "      <td>3862</td>\n",
       "      <td>13</td>\n",
       "      <td>3.941031</td>\n",
       "      <td>2</td>\n",
       "      <td>2.99</td>\n",
       "      <td>2.99</td>\n",
       "    </tr>\n",
       "    <tr>\n",
       "      <td>...</td>\n",
       "      <td>...</td>\n",
       "      <td>...</td>\n",
       "      <td>...</td>\n",
       "      <td>...</td>\n",
       "      <td>...</td>\n",
       "      <td>...</td>\n",
       "    </tr>\n",
       "    <tr>\n",
       "      <td>2639</td>\n",
       "      <td>3906</td>\n",
       "      <td>4</td>\n",
       "      <td>4.990000</td>\n",
       "      <td>0</td>\n",
       "      <td>6.99</td>\n",
       "      <td>5.49</td>\n",
       "    </tr>\n",
       "    <tr>\n",
       "      <td>2640</td>\n",
       "      <td>3906</td>\n",
       "      <td>4</td>\n",
       "      <td>4.990000</td>\n",
       "      <td>0</td>\n",
       "      <td>6.99</td>\n",
       "      <td>5.49</td>\n",
       "    </tr>\n",
       "    <tr>\n",
       "      <td>2641</td>\n",
       "      <td>3906</td>\n",
       "      <td>4</td>\n",
       "      <td>6.990000</td>\n",
       "      <td>0</td>\n",
       "      <td>6.99</td>\n",
       "      <td>5.49</td>\n",
       "    </tr>\n",
       "    <tr>\n",
       "      <td>2642</td>\n",
       "      <td>35773</td>\n",
       "      <td>22</td>\n",
       "      <td>4.990000</td>\n",
       "      <td>0</td>\n",
       "      <td>6.99</td>\n",
       "      <td>5.99</td>\n",
       "    </tr>\n",
       "    <tr>\n",
       "      <td>2643</td>\n",
       "      <td>35773</td>\n",
       "      <td>22</td>\n",
       "      <td>6.990000</td>\n",
       "      <td>0</td>\n",
       "      <td>6.99</td>\n",
       "      <td>5.99</td>\n",
       "    </tr>\n",
       "  </tbody>\n",
       "</table>\n",
       "<p>2644 rows × 6 columns</p>\n",
       "</div>"
      ],
      "text/plain": [
       "      play_seconds  play_session_count  gross_usd_amount  day_since_install  \\\n",
       "0             7815                  12          3.438189                  4   \n",
       "1             1516                   5          3.460608                  1   \n",
       "2             7968                  13          3.620749                  3   \n",
       "3             1046                   4          3.780890                  0   \n",
       "4             3862                  13          3.941031                  2   \n",
       "...            ...                 ...               ...                ...   \n",
       "2639          3906                   4          4.990000                  0   \n",
       "2640          3906                   4          4.990000                  0   \n",
       "2641          3906                   4          6.990000                  0   \n",
       "2642         35773                  22          4.990000                  0   \n",
       "2643         35773                  22          6.990000                  0   \n",
       "\n",
       "      max_price_tier  avg_price_tier  \n",
       "0               2.99            2.99  \n",
       "1               2.99            2.99  \n",
       "2               2.99            2.99  \n",
       "3               2.99            2.99  \n",
       "4               2.99            2.99  \n",
       "...              ...             ...  \n",
       "2639            6.99            5.49  \n",
       "2640            6.99            5.49  \n",
       "2641            6.99            5.49  \n",
       "2642            6.99            5.99  \n",
       "2643            6.99            5.99  \n",
       "\n",
       "[2644 rows x 6 columns]"
      ]
     },
     "execution_count": 195,
     "metadata": {},
     "output_type": "execute_result"
    }
   ],
   "source": [
    "X_test"
   ]
  },
  {
   "cell_type": "code",
   "execution_count": 107,
   "metadata": {},
   "outputs": [
    {
     "data": {
      "text/plain": [
       "0         2.99\n",
       "1         2.99\n",
       "2         2.99\n",
       "3         4.99\n",
       "4         4.99\n",
       "          ... \n",
       "255691    4.99\n",
       "255692    4.99\n",
       "255693    6.99\n",
       "255694    6.99\n",
       "255695    7.99\n",
       "Name: price_tier, Length: 253530, dtype: float64"
      ]
     },
     "execution_count": 107,
     "metadata": {},
     "output_type": "execute_result"
    }
   ],
   "source": [
    "y_train"
   ]
  },
  {
   "cell_type": "code",
   "execution_count": 108,
   "metadata": {},
   "outputs": [
    {
     "data": {
      "text/plain": [
       "0       2.99\n",
       "1       2.99\n",
       "2       2.99\n",
       "3       2.99\n",
       "4       2.99\n",
       "        ... \n",
       "2639    4.99\n",
       "2640    4.99\n",
       "2641    6.99\n",
       "2642    4.99\n",
       "2643    6.99\n",
       "Name: price_tier, Length: 2644, dtype: float64"
      ]
     },
     "execution_count": 108,
     "metadata": {},
     "output_type": "execute_result"
    }
   ],
   "source": [
    "y_test"
   ]
  },
  {
   "cell_type": "code",
   "execution_count": 196,
   "metadata": {},
   "outputs": [],
   "source": [
    "from sklearn.metrics import r2_score \n",
    "from sklearn.metrics import r2_score, mean_absolute_error, mean_squared_error\n",
    "\n",
    "from sklearn.linear_model import LinearRegression\n",
    "from sklearn.linear_model import Ridge\n",
    "from sklearn.linear_model import Lasso\n",
    "from sklearn.linear_model import ElasticNet\n",
    "from sklearn.ensemble import RandomForestRegressor\n",
    "from sklearn.svm import SVR\n",
    "from sklearn.preprocessing import PolynomialFeatures"
   ]
  },
  {
   "cell_type": "code",
   "execution_count": 197,
   "metadata": {},
   "outputs": [],
   "source": [
    "perf = []\n",
    "method = []"
   ]
  },
  {
   "cell_type": "code",
   "execution_count": 198,
   "metadata": {},
   "outputs": [],
   "source": [
    "from sklearn.metrics import mean_squared_log_error"
   ]
  },
  {
   "cell_type": "code",
   "execution_count": 199,
   "metadata": {},
   "outputs": [
    {
     "name": "stdout",
     "output_type": "stream",
     "text": [
      "R2 Score: 0.8031741386254135\n",
      "RMSLE: 0.19523704469483474\n"
     ]
    }
   ],
   "source": [
    "# Ridge regression\n",
    "ridge = Ridge()\n",
    "ridge.fit(X_train_values, y_train_values)\n",
    "predictions = ridge.predict(X_test_values)\n",
    "\n",
    "r_squared = r2_score(predictions, y_test_values)\n",
    "\n",
    "print(\"R2 Score:\", r_squared)\n",
    "method.append('Ridge Regression')\n",
    "\n",
    "rmsle = np.sqrt(mean_squared_log_error(predictions, y_test_values))\n",
    "print(\"RMSLE:\", rmsle)\n",
    "perf.append(rmsle)"
   ]
  },
  {
   "cell_type": "code",
   "execution_count": null,
   "metadata": {},
   "outputs": [],
   "source": [
    "# support vector regression\n",
    "from sklearn.svm import SVR\n",
    "svr = SVR(C=1000000)\n",
    "svr.fit(X_train_values, y_train_values)\n",
    "predictions = svr.predict(X_test_values)\n",
    "\n",
    "r_squared = r2_score(predictions, y_test_values)\n",
    "\n",
    "print(\"R2 Score:\", r_squared)\n",
    "#method.append('SVM')\n",
    "rmsle = np.sqrt(mean_squared_log_error(predictions, y_test_values))\n",
    "print(\"RMSLE:\", rmsle)\n",
    "#perf.append(rmsle)"
   ]
  },
  {
   "cell_type": "code",
   "execution_count": null,
   "metadata": {},
   "outputs": [],
   "source": []
  }
 ],
 "metadata": {
  "kernelspec": {
   "display_name": "Python 3",
   "language": "python",
   "name": "python3"
  },
  "language_info": {
   "codemirror_mode": {
    "name": "ipython",
    "version": 3
   },
   "file_extension": ".py",
   "mimetype": "text/x-python",
   "name": "python",
   "nbconvert_exporter": "python",
   "pygments_lexer": "ipython3",
   "version": "3.7.4"
  }
 },
 "nbformat": 4,
 "nbformat_minor": 2
}
